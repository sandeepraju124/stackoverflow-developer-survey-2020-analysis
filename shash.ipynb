{
 "cells": [
  {
   "cell_type": "code",
   "execution_count": 1,
   "metadata": {},
   "outputs": [],
   "source": [
    "import pandas as pd\n",
    "import warnings\n",
    "warnings.filterwarnings(\"ignore\")"
   ]
  },
  {
   "cell_type": "code",
   "execution_count": 2,
   "metadata": {},
   "outputs": [],
   "source": [
    "full_df = pd.read_csv(\"survey_results_public.csv\")"
   ]
  },
  {
   "cell_type": "code",
   "execution_count": 3,
   "metadata": {},
   "outputs": [
    {
     "data": {
      "text/html": [
       "<div>\n",
       "<style scoped>\n",
       "    .dataframe tbody tr th:only-of-type {\n",
       "        vertical-align: middle;\n",
       "    }\n",
       "\n",
       "    .dataframe tbody tr th {\n",
       "        vertical-align: top;\n",
       "    }\n",
       "\n",
       "    .dataframe thead th {\n",
       "        text-align: right;\n",
       "    }\n",
       "</style>\n",
       "<table border=\"1\" class=\"dataframe\">\n",
       "  <thead>\n",
       "    <tr style=\"text-align: right;\">\n",
       "      <th></th>\n",
       "      <th>Respondent</th>\n",
       "      <th>MainBranch</th>\n",
       "      <th>Hobbyist</th>\n",
       "      <th>OpenSourcer</th>\n",
       "      <th>OpenSource</th>\n",
       "      <th>Employment</th>\n",
       "      <th>Country</th>\n",
       "      <th>Student</th>\n",
       "      <th>EdLevel</th>\n",
       "      <th>UndergradMajor</th>\n",
       "      <th>...</th>\n",
       "      <th>WelcomeChange</th>\n",
       "      <th>SONewContent</th>\n",
       "      <th>Age</th>\n",
       "      <th>Gender</th>\n",
       "      <th>Trans</th>\n",
       "      <th>Sexuality</th>\n",
       "      <th>Ethnicity</th>\n",
       "      <th>Dependents</th>\n",
       "      <th>SurveyLength</th>\n",
       "      <th>SurveyEase</th>\n",
       "    </tr>\n",
       "  </thead>\n",
       "  <tbody>\n",
       "    <tr>\n",
       "      <th>47461</th>\n",
       "      <td>47768</td>\n",
       "      <td>I am not primarily a developer, but I write co...</td>\n",
       "      <td>Yes</td>\n",
       "      <td>Never</td>\n",
       "      <td>The quality of OSS and closed source software ...</td>\n",
       "      <td>Employed full-time</td>\n",
       "      <td>United States</td>\n",
       "      <td>No</td>\n",
       "      <td>Master’s degree (MA, MS, M.Eng., MBA, etc.)</td>\n",
       "      <td>Information systems, information technology, o...</td>\n",
       "      <td>...</td>\n",
       "      <td>Just as welcome now as I felt last year</td>\n",
       "      <td>NaN</td>\n",
       "      <td>33.0</td>\n",
       "      <td>Man</td>\n",
       "      <td>No</td>\n",
       "      <td>Straight / Heterosexual</td>\n",
       "      <td>White or of European descent</td>\n",
       "      <td>No</td>\n",
       "      <td>Appropriate in length</td>\n",
       "      <td>Easy</td>\n",
       "    </tr>\n",
       "    <tr>\n",
       "      <th>20876</th>\n",
       "      <td>20992</td>\n",
       "      <td>I code primarily as a hobby</td>\n",
       "      <td>Yes</td>\n",
       "      <td>Less than once a month but more than once per ...</td>\n",
       "      <td>OSS is, on average, of HIGHER quality than pro...</td>\n",
       "      <td>Retired</td>\n",
       "      <td>Australia</td>\n",
       "      <td>No</td>\n",
       "      <td>Bachelor’s degree (BA, BS, B.Eng., etc.)</td>\n",
       "      <td>Another engineering discipline (ex. civil, ele...</td>\n",
       "      <td>...</td>\n",
       "      <td>Just as welcome now as I felt last year</td>\n",
       "      <td>NaN</td>\n",
       "      <td>67.0</td>\n",
       "      <td>Man</td>\n",
       "      <td>No</td>\n",
       "      <td>Straight / Heterosexual</td>\n",
       "      <td>White or of European descent</td>\n",
       "      <td>No</td>\n",
       "      <td>Too long</td>\n",
       "      <td>Easy</td>\n",
       "    </tr>\n",
       "    <tr>\n",
       "      <th>13240</th>\n",
       "      <td>13302</td>\n",
       "      <td>I am a developer by profession</td>\n",
       "      <td>Yes</td>\n",
       "      <td>Less than once a month but more than once per ...</td>\n",
       "      <td>OSS is, on average, of HIGHER quality than pro...</td>\n",
       "      <td>Employed full-time</td>\n",
       "      <td>Australia</td>\n",
       "      <td>No</td>\n",
       "      <td>Bachelor’s degree (BA, BS, B.Eng., etc.)</td>\n",
       "      <td>Computer science, computer engineering, or sof...</td>\n",
       "      <td>...</td>\n",
       "      <td>Just as welcome now as I felt last year</td>\n",
       "      <td>Tech articles written by other developers;Indu...</td>\n",
       "      <td>23.0</td>\n",
       "      <td>Man</td>\n",
       "      <td>No</td>\n",
       "      <td>Straight / Heterosexual</td>\n",
       "      <td>White or of European descent</td>\n",
       "      <td>No</td>\n",
       "      <td>Appropriate in length</td>\n",
       "      <td>Easy</td>\n",
       "    </tr>\n",
       "    <tr>\n",
       "      <th>79291</th>\n",
       "      <td>79786</td>\n",
       "      <td>I am a developer by profession</td>\n",
       "      <td>Yes</td>\n",
       "      <td>Never</td>\n",
       "      <td>OSS is, on average, of HIGHER quality than pro...</td>\n",
       "      <td>Employed full-time</td>\n",
       "      <td>Spain</td>\n",
       "      <td>No</td>\n",
       "      <td>Bachelor’s degree (BA, BS, B.Eng., etc.)</td>\n",
       "      <td>Computer science, computer engineering, or sof...</td>\n",
       "      <td>...</td>\n",
       "      <td>Just as welcome now as I felt last year</td>\n",
       "      <td>Tech articles written by other developers;Tech...</td>\n",
       "      <td>22.0</td>\n",
       "      <td>Man</td>\n",
       "      <td>No</td>\n",
       "      <td>NaN</td>\n",
       "      <td>White or of European descent</td>\n",
       "      <td>No</td>\n",
       "      <td>Too long</td>\n",
       "      <td>Easy</td>\n",
       "    </tr>\n",
       "  </tbody>\n",
       "</table>\n",
       "<p>4 rows × 85 columns</p>\n",
       "</div>"
      ],
      "text/plain": [
       "       Respondent                                         MainBranch Hobbyist  \\\n",
       "47461       47768  I am not primarily a developer, but I write co...      Yes   \n",
       "20876       20992                        I code primarily as a hobby      Yes   \n",
       "13240       13302                     I am a developer by profession      Yes   \n",
       "79291       79786                     I am a developer by profession      Yes   \n",
       "\n",
       "                                             OpenSourcer  \\\n",
       "47461                                              Never   \n",
       "20876  Less than once a month but more than once per ...   \n",
       "13240  Less than once a month but more than once per ...   \n",
       "79291                                              Never   \n",
       "\n",
       "                                              OpenSource          Employment  \\\n",
       "47461  The quality of OSS and closed source software ...  Employed full-time   \n",
       "20876  OSS is, on average, of HIGHER quality than pro...             Retired   \n",
       "13240  OSS is, on average, of HIGHER quality than pro...  Employed full-time   \n",
       "79291  OSS is, on average, of HIGHER quality than pro...  Employed full-time   \n",
       "\n",
       "             Country Student                                      EdLevel  \\\n",
       "47461  United States      No  Master’s degree (MA, MS, M.Eng., MBA, etc.)   \n",
       "20876      Australia      No     Bachelor’s degree (BA, BS, B.Eng., etc.)   \n",
       "13240      Australia      No     Bachelor’s degree (BA, BS, B.Eng., etc.)   \n",
       "79291          Spain      No     Bachelor’s degree (BA, BS, B.Eng., etc.)   \n",
       "\n",
       "                                          UndergradMajor  ...  \\\n",
       "47461  Information systems, information technology, o...  ...   \n",
       "20876  Another engineering discipline (ex. civil, ele...  ...   \n",
       "13240  Computer science, computer engineering, or sof...  ...   \n",
       "79291  Computer science, computer engineering, or sof...  ...   \n",
       "\n",
       "                                 WelcomeChange  \\\n",
       "47461  Just as welcome now as I felt last year   \n",
       "20876  Just as welcome now as I felt last year   \n",
       "13240  Just as welcome now as I felt last year   \n",
       "79291  Just as welcome now as I felt last year   \n",
       "\n",
       "                                            SONewContent   Age Gender Trans  \\\n",
       "47461                                                NaN  33.0    Man    No   \n",
       "20876                                                NaN  67.0    Man    No   \n",
       "13240  Tech articles written by other developers;Indu...  23.0    Man    No   \n",
       "79291  Tech articles written by other developers;Tech...  22.0    Man    No   \n",
       "\n",
       "                     Sexuality                     Ethnicity Dependents  \\\n",
       "47461  Straight / Heterosexual  White or of European descent         No   \n",
       "20876  Straight / Heterosexual  White or of European descent         No   \n",
       "13240  Straight / Heterosexual  White or of European descent         No   \n",
       "79291                      NaN  White or of European descent         No   \n",
       "\n",
       "                SurveyLength SurveyEase  \n",
       "47461  Appropriate in length       Easy  \n",
       "20876               Too long       Easy  \n",
       "13240  Appropriate in length       Easy  \n",
       "79291               Too long       Easy  \n",
       "\n",
       "[4 rows x 85 columns]"
      ]
     },
     "execution_count": 3,
     "metadata": {},
     "output_type": "execute_result"
    }
   ],
   "source": [
    "full_df.sample(4)"
   ]
  },
  {
   "cell_type": "code",
   "execution_count": 4,
   "metadata": {},
   "outputs": [],
   "source": [
    "que = pd.read_csv(\"survey_results_schema.csv\", index_col=\"Column\").QuestionText"
   ]
  },
  {
   "cell_type": "code",
   "execution_count": 5,
   "metadata": {},
   "outputs": [
    {
     "data": {
      "text/plain": [
       "Column\n",
       "Respondent                Randomized respondent ID number (not in order ...\n",
       "MainBranch                Which of the following options best describes ...\n",
       "Hobbyist                                            Do you code as a hobby?\n",
       "OpenSourcer                     How often do you contribute to open source?\n",
       "OpenSource                How do you feel about the quality of open sour...\n",
       "Employment                Which of the following best describes your cur...\n",
       "Country                           In which country do you currently reside?\n",
       "Student                   Are you currently enrolled in a formal, degree...\n",
       "EdLevel                   Which of the following best describes the high...\n",
       "UndergradMajor            What was your main or most important field of ...\n",
       "EduOther                  Which of the following types of non-degree edu...\n",
       "OrgSize                   Approximately how many people are employed by ...\n",
       "DevType                   Which of the following describe you? Please se...\n",
       "YearsCode                 Including any education, how many years have y...\n",
       "Age1stCode                At what age did you write your first line of c...\n",
       "YearsCodePro              How many years have you coded professionally (...\n",
       "CareerSat                 Overall, how satisfied are you with your caree...\n",
       "JobSat                    How satisfied are you with your current job? (...\n",
       "MgrIdiot                  How confident are you that your manager knows ...\n",
       "MgrMoney                  Do you believe that you need to be a manager t...\n",
       "MgrWant                   Do you want to become a manager yourself in th...\n",
       "JobSeek                   Which of the following best describes your cur...\n",
       "LastHireDate              When was the last time that you took a job wit...\n",
       "LastInt                   In your most recent successful job interview (...\n",
       "FizzBuzz                  Have you ever been asked to solve FizzBuzz in ...\n",
       "JobFactors                Imagine that you are deciding between two job ...\n",
       "ResumeUpdate              Think back to the last time you updated your r...\n",
       "CurrencySymbol            Which currency do you use day-to-day? If your ...\n",
       "CurrencyDesc              Which currency do you use day-to-day? If your ...\n",
       "CompTotal                 What is your current total compensation (salar...\n",
       "CompFreq                   Is that compensation weekly, monthly, or yearly?\n",
       "ConvertedComp             Salary converted to annual USD salaries using ...\n",
       "WorkWeekHrs                On average, how many hours per week do you work?\n",
       "WorkPlan                            How structured or planned is your work?\n",
       "WorkChallenge             Of these options, what are your greatest chall...\n",
       "WorkRemote                                  How often do you work remotely?\n",
       "WorkLoc                                     Where would you prefer to work?\n",
       "ImpSyn                    For the specific work you do, and the years of...\n",
       "CodeRev                            Do you review code as part of your work?\n",
       "CodeRevHrs                On average, how many hours per week do you spe...\n",
       "UnitTests                 Does your company regularly employ unit tests ...\n",
       "PurchaseHow               How does your company make decisions about pur...\n",
       "PurchaseWhat              What level of influence do you, personally, ha...\n",
       "LanguageWorkedWith        Which of the following programming, scripting,...\n",
       "LanguageDesireNextYear    Which of the following programming, scripting,...\n",
       "DatabaseWorkedWith        Which of the following database environments h...\n",
       "DatabaseDesireNextYear    Which of the following database environments h...\n",
       "PlatformWorkedWith        Which of the following platforms have you done...\n",
       "PlatformDesireNextYear    Which of the following platforms have you done...\n",
       "WebFrameWorkedWith        Which of the following web frameworks have you...\n",
       "Name: QuestionText, dtype: object"
      ]
     },
     "execution_count": 5,
     "metadata": {},
     "output_type": "execute_result"
    }
   ],
   "source": [
    "que.head(50)"
   ]
  },
  {
   "cell_type": "code",
   "execution_count": 6,
   "metadata": {},
   "outputs": [
    {
     "data": {
      "text/plain": [
       "'In which country do you currently reside?'"
      ]
     },
     "execution_count": 6,
     "metadata": {},
     "output_type": "execute_result"
    }
   ],
   "source": [
    "que[\"Country\"]"
   ]
  },
  {
   "cell_type": "code",
   "execution_count": 7,
   "metadata": {},
   "outputs": [],
   "source": [
    "import matplotlib.pyplot as plt"
   ]
  },
  {
   "cell_type": "code",
   "execution_count": 8,
   "metadata": {},
   "outputs": [],
   "source": [
    "selected_col = ['Country','Age','Gender','EdLevel','UndergradMajor','Hobbyist','Age1stCode',\n",
    "                 'YearsCode','YearsCodePro','LanguageWorkedWith','LanguageDesireNextYear',\n",
    "                'Employment', 'DevType','WorkWeekHrs','JobSat','JobFactors']"
   ]
  },
  {
   "cell_type": "code",
   "execution_count": 9,
   "metadata": {},
   "outputs": [],
   "source": [
    "df = full_df[selected_col]"
   ]
  },
  {
   "cell_type": "code",
   "execution_count": 10,
   "metadata": {},
   "outputs": [
    {
     "data": {
      "text/plain": [
       "array(['10', '17', '22', '16', '14', '15', '11', '20', '13', '18', '12',\n",
       "       '19', '21', '8', '35', '6', '9', '29', '7', '5', '23', '30', nan,\n",
       "       '27', '24', 'Younger than 5 years', '33', '25', '26', '39', '36',\n",
       "       '38', '28', '31', 'Older than 85', '32', '37', '50', '65', '42',\n",
       "       '34', '40', '67', '43', '44', '60', '46', '45', '49', '51', '41',\n",
       "       '55', '83', '48', '53', '54', '47', '56', '79', '61', '68', '77',\n",
       "       '66', '52', '80', '62', '84', '57', '58', '63'], dtype=object)"
      ]
     },
     "execution_count": 10,
     "metadata": {},
     "output_type": "execute_result"
    }
   ],
   "source": [
    "df[\"Age1stCode\"].unique()"
   ]
  },
  {
   "cell_type": "code",
   "execution_count": 11,
   "metadata": {},
   "outputs": [
    {
     "data": {
      "text/plain": [
       "1249"
      ]
     },
     "execution_count": 11,
     "metadata": {},
     "output_type": "execute_result"
    }
   ],
   "source": [
    "df['Age1stCode'].isnull().sum()"
   ]
  },
  {
   "cell_type": "code",
   "execution_count": 12,
   "metadata": {},
   "outputs": [],
   "source": [
    "df[\"Age1stCode\"] = pd.to_numeric(df[\"Age1stCode\"], errors=\"coerce\")"
   ]
  },
  {
   "cell_type": "code",
   "execution_count": 13,
   "metadata": {},
   "outputs": [],
   "source": [
    "df[\"YearsCode\"]= pd.to_numeric(df[\"YearsCode\"],errors=\"coerce\")"
   ]
  },
  {
   "cell_type": "code",
   "execution_count": 14,
   "metadata": {},
   "outputs": [],
   "source": [
    "df[\"YearsCodePro\"] = pd.to_numeric(df[\"YearsCodePro\"], errors=\"coerce\")"
   ]
  },
  {
   "cell_type": "code",
   "execution_count": 15,
   "metadata": {},
   "outputs": [
    {
     "data": {
      "text/html": [
       "<div>\n",
       "<style scoped>\n",
       "    .dataframe tbody tr th:only-of-type {\n",
       "        vertical-align: middle;\n",
       "    }\n",
       "\n",
       "    .dataframe tbody tr th {\n",
       "        vertical-align: top;\n",
       "    }\n",
       "\n",
       "    .dataframe thead th {\n",
       "        text-align: right;\n",
       "    }\n",
       "</style>\n",
       "<table border=\"1\" class=\"dataframe\">\n",
       "  <thead>\n",
       "    <tr style=\"text-align: right;\">\n",
       "      <th></th>\n",
       "      <th>Country</th>\n",
       "      <th>Age</th>\n",
       "      <th>Gender</th>\n",
       "      <th>EdLevel</th>\n",
       "      <th>UndergradMajor</th>\n",
       "      <th>Hobbyist</th>\n",
       "      <th>Age1stCode</th>\n",
       "      <th>YearsCode</th>\n",
       "      <th>YearsCodePro</th>\n",
       "      <th>LanguageWorkedWith</th>\n",
       "      <th>LanguageDesireNextYear</th>\n",
       "      <th>Employment</th>\n",
       "      <th>DevType</th>\n",
       "      <th>WorkWeekHrs</th>\n",
       "      <th>JobSat</th>\n",
       "      <th>JobFactors</th>\n",
       "    </tr>\n",
       "  </thead>\n",
       "  <tbody>\n",
       "    <tr>\n",
       "      <th>0</th>\n",
       "      <td>United Kingdom</td>\n",
       "      <td>14.0</td>\n",
       "      <td>Man</td>\n",
       "      <td>Primary/elementary school</td>\n",
       "      <td>NaN</td>\n",
       "      <td>Yes</td>\n",
       "      <td>10.0</td>\n",
       "      <td>4.0</td>\n",
       "      <td>NaN</td>\n",
       "      <td>HTML/CSS;Java;JavaScript;Python</td>\n",
       "      <td>C;C++;C#;Go;HTML/CSS;Java;JavaScript;Python;SQL</td>\n",
       "      <td>Not employed, and not looking for work</td>\n",
       "      <td>NaN</td>\n",
       "      <td>NaN</td>\n",
       "      <td>NaN</td>\n",
       "      <td>NaN</td>\n",
       "    </tr>\n",
       "    <tr>\n",
       "      <th>1</th>\n",
       "      <td>Bosnia and Herzegovina</td>\n",
       "      <td>19.0</td>\n",
       "      <td>Man</td>\n",
       "      <td>Secondary school (e.g. American high school, G...</td>\n",
       "      <td>NaN</td>\n",
       "      <td>No</td>\n",
       "      <td>17.0</td>\n",
       "      <td>NaN</td>\n",
       "      <td>NaN</td>\n",
       "      <td>C++;HTML/CSS;Python</td>\n",
       "      <td>C++;HTML/CSS;JavaScript;SQL</td>\n",
       "      <td>Not employed, but looking for work</td>\n",
       "      <td>Developer, desktop or enterprise applications;...</td>\n",
       "      <td>NaN</td>\n",
       "      <td>NaN</td>\n",
       "      <td>Financial performance or funding status of the...</td>\n",
       "    </tr>\n",
       "    <tr>\n",
       "      <th>2</th>\n",
       "      <td>Thailand</td>\n",
       "      <td>28.0</td>\n",
       "      <td>Man</td>\n",
       "      <td>Bachelor’s degree (BA, BS, B.Eng., etc.)</td>\n",
       "      <td>Web development or web design</td>\n",
       "      <td>Yes</td>\n",
       "      <td>22.0</td>\n",
       "      <td>3.0</td>\n",
       "      <td>1.0</td>\n",
       "      <td>HTML/CSS</td>\n",
       "      <td>Elixir;HTML/CSS</td>\n",
       "      <td>Employed full-time</td>\n",
       "      <td>Designer;Developer, back-end;Developer, front-...</td>\n",
       "      <td>40.0</td>\n",
       "      <td>Slightly satisfied</td>\n",
       "      <td>Languages, frameworks, and other technologies ...</td>\n",
       "    </tr>\n",
       "  </tbody>\n",
       "</table>\n",
       "</div>"
      ],
      "text/plain": [
       "                  Country   Age Gender  \\\n",
       "0          United Kingdom  14.0    Man   \n",
       "1  Bosnia and Herzegovina  19.0    Man   \n",
       "2                Thailand  28.0    Man   \n",
       "\n",
       "                                             EdLevel  \\\n",
       "0                          Primary/elementary school   \n",
       "1  Secondary school (e.g. American high school, G...   \n",
       "2           Bachelor’s degree (BA, BS, B.Eng., etc.)   \n",
       "\n",
       "                  UndergradMajor Hobbyist  Age1stCode  YearsCode  \\\n",
       "0                            NaN      Yes        10.0        4.0   \n",
       "1                            NaN       No        17.0        NaN   \n",
       "2  Web development or web design      Yes        22.0        3.0   \n",
       "\n",
       "   YearsCodePro               LanguageWorkedWith  \\\n",
       "0           NaN  HTML/CSS;Java;JavaScript;Python   \n",
       "1           NaN              C++;HTML/CSS;Python   \n",
       "2           1.0                         HTML/CSS   \n",
       "\n",
       "                            LanguageDesireNextYear  \\\n",
       "0  C;C++;C#;Go;HTML/CSS;Java;JavaScript;Python;SQL   \n",
       "1                      C++;HTML/CSS;JavaScript;SQL   \n",
       "2                                  Elixir;HTML/CSS   \n",
       "\n",
       "                               Employment  \\\n",
       "0  Not employed, and not looking for work   \n",
       "1      Not employed, but looking for work   \n",
       "2                      Employed full-time   \n",
       "\n",
       "                                             DevType  WorkWeekHrs  \\\n",
       "0                                                NaN          NaN   \n",
       "1  Developer, desktop or enterprise applications;...          NaN   \n",
       "2  Designer;Developer, back-end;Developer, front-...         40.0   \n",
       "\n",
       "               JobSat                                         JobFactors  \n",
       "0                 NaN                                                NaN  \n",
       "1                 NaN  Financial performance or funding status of the...  \n",
       "2  Slightly satisfied  Languages, frameworks, and other technologies ...  "
      ]
     },
     "execution_count": 15,
     "metadata": {},
     "output_type": "execute_result"
    }
   ],
   "source": [
    "df.head(3)"
   ]
  },
  {
   "cell_type": "code",
   "execution_count": 16,
   "metadata": {},
   "outputs": [
    {
     "data": {
      "text/plain": [
       "(88883, 16)"
      ]
     },
     "execution_count": 16,
     "metadata": {},
     "output_type": "execute_result"
    }
   ],
   "source": [
    "df.shape"
   ]
  },
  {
   "cell_type": "code",
   "execution_count": 17,
   "metadata": {},
   "outputs": [
    {
     "data": {
      "text/html": [
       "<div>\n",
       "<style scoped>\n",
       "    .dataframe tbody tr th:only-of-type {\n",
       "        vertical-align: middle;\n",
       "    }\n",
       "\n",
       "    .dataframe tbody tr th {\n",
       "        vertical-align: top;\n",
       "    }\n",
       "\n",
       "    .dataframe thead th {\n",
       "        text-align: right;\n",
       "    }\n",
       "</style>\n",
       "<table border=\"1\" class=\"dataframe\">\n",
       "  <thead>\n",
       "    <tr style=\"text-align: right;\">\n",
       "      <th></th>\n",
       "      <th>Age</th>\n",
       "      <th>Age1stCode</th>\n",
       "      <th>YearsCode</th>\n",
       "      <th>YearsCodePro</th>\n",
       "      <th>WorkWeekHrs</th>\n",
       "    </tr>\n",
       "  </thead>\n",
       "  <tbody>\n",
       "    <tr>\n",
       "      <th>count</th>\n",
       "      <td>79210.000000</td>\n",
       "      <td>87088.000000</td>\n",
       "      <td>86445.000000</td>\n",
       "      <td>70285.000000</td>\n",
       "      <td>64503.000000</td>\n",
       "    </tr>\n",
       "    <tr>\n",
       "      <th>mean</th>\n",
       "      <td>30.336699</td>\n",
       "      <td>15.456446</td>\n",
       "      <td>11.789195</td>\n",
       "      <td>8.590311</td>\n",
       "      <td>42.127197</td>\n",
       "    </tr>\n",
       "    <tr>\n",
       "      <th>std</th>\n",
       "      <td>9.178390</td>\n",
       "      <td>4.993287</td>\n",
       "      <td>8.988751</td>\n",
       "      <td>7.533009</td>\n",
       "      <td>37.287610</td>\n",
       "    </tr>\n",
       "    <tr>\n",
       "      <th>min</th>\n",
       "      <td>1.000000</td>\n",
       "      <td>5.000000</td>\n",
       "      <td>1.000000</td>\n",
       "      <td>1.000000</td>\n",
       "      <td>1.000000</td>\n",
       "    </tr>\n",
       "    <tr>\n",
       "      <th>25%</th>\n",
       "      <td>24.000000</td>\n",
       "      <td>12.000000</td>\n",
       "      <td>5.000000</td>\n",
       "      <td>3.000000</td>\n",
       "      <td>40.000000</td>\n",
       "    </tr>\n",
       "    <tr>\n",
       "      <th>50%</th>\n",
       "      <td>29.000000</td>\n",
       "      <td>15.000000</td>\n",
       "      <td>9.000000</td>\n",
       "      <td>6.000000</td>\n",
       "      <td>40.000000</td>\n",
       "    </tr>\n",
       "    <tr>\n",
       "      <th>75%</th>\n",
       "      <td>35.000000</td>\n",
       "      <td>18.000000</td>\n",
       "      <td>16.000000</td>\n",
       "      <td>12.000000</td>\n",
       "      <td>44.750000</td>\n",
       "    </tr>\n",
       "    <tr>\n",
       "      <th>max</th>\n",
       "      <td>99.000000</td>\n",
       "      <td>84.000000</td>\n",
       "      <td>50.000000</td>\n",
       "      <td>50.000000</td>\n",
       "      <td>4850.000000</td>\n",
       "    </tr>\n",
       "  </tbody>\n",
       "</table>\n",
       "</div>"
      ],
      "text/plain": [
       "                Age    Age1stCode     YearsCode  YearsCodePro   WorkWeekHrs\n",
       "count  79210.000000  87088.000000  86445.000000  70285.000000  64503.000000\n",
       "mean      30.336699     15.456446     11.789195      8.590311     42.127197\n",
       "std        9.178390      4.993287      8.988751      7.533009     37.287610\n",
       "min        1.000000      5.000000      1.000000      1.000000      1.000000\n",
       "25%       24.000000     12.000000      5.000000      3.000000     40.000000\n",
       "50%       29.000000     15.000000      9.000000      6.000000     40.000000\n",
       "75%       35.000000     18.000000     16.000000     12.000000     44.750000\n",
       "max       99.000000     84.000000     50.000000     50.000000   4850.000000"
      ]
     },
     "execution_count": 17,
     "metadata": {},
     "output_type": "execute_result"
    }
   ],
   "source": [
    "df.describe()"
   ]
  },
  {
   "cell_type": "code",
   "execution_count": 18,
   "metadata": {},
   "outputs": [],
   "source": [
    "df.drop(df[df.Age<10].index, inplace=True)"
   ]
  },
  {
   "cell_type": "code",
   "execution_count": 19,
   "metadata": {},
   "outputs": [],
   "source": [
    "df.drop(df[df.Age>60].index, inplace = True)"
   ]
  },
  {
   "cell_type": "code",
   "execution_count": 20,
   "metadata": {},
   "outputs": [
    {
     "data": {
      "text/plain": [
       "(88119, 16)"
      ]
     },
     "execution_count": 20,
     "metadata": {},
     "output_type": "execute_result"
    }
   ],
   "source": [
    "df.shape"
   ]
  },
  {
   "cell_type": "code",
   "execution_count": 21,
   "metadata": {},
   "outputs": [
    {
     "data": {
      "text/plain": [
       "'At what age did you write your first line of code or program? (E.g., webpage, Hello World, Scratch project)'"
      ]
     },
     "execution_count": 21,
     "metadata": {},
     "output_type": "execute_result"
    }
   ],
   "source": [
    "que[\"Age1stCode\"]"
   ]
  },
  {
   "cell_type": "code",
   "execution_count": 22,
   "metadata": {},
   "outputs": [],
   "source": [
    "df.drop(df[df.Age1stCode<10].index, inplace = True)"
   ]
  },
  {
   "cell_type": "code",
   "execution_count": 23,
   "metadata": {},
   "outputs": [
    {
     "data": {
      "text/html": [
       "<div>\n",
       "<style scoped>\n",
       "    .dataframe tbody tr th:only-of-type {\n",
       "        vertical-align: middle;\n",
       "    }\n",
       "\n",
       "    .dataframe tbody tr th {\n",
       "        vertical-align: top;\n",
       "    }\n",
       "\n",
       "    .dataframe thead th {\n",
       "        text-align: right;\n",
       "    }\n",
       "</style>\n",
       "<table border=\"1\" class=\"dataframe\">\n",
       "  <thead>\n",
       "    <tr style=\"text-align: right;\">\n",
       "      <th></th>\n",
       "      <th>Age</th>\n",
       "      <th>Age1stCode</th>\n",
       "      <th>YearsCode</th>\n",
       "      <th>YearsCodePro</th>\n",
       "      <th>WorkWeekHrs</th>\n",
       "    </tr>\n",
       "  </thead>\n",
       "  <tbody>\n",
       "    <tr>\n",
       "      <th>count</th>\n",
       "      <td>72138.000000</td>\n",
       "      <td>79223.000000</td>\n",
       "      <td>78741.000000</td>\n",
       "      <td>63894.000000</td>\n",
       "      <td>59032.000000</td>\n",
       "    </tr>\n",
       "    <tr>\n",
       "      <th>mean</th>\n",
       "      <td>29.852268</td>\n",
       "      <td>16.097699</td>\n",
       "      <td>11.132802</td>\n",
       "      <td>8.127571</td>\n",
       "      <td>42.080275</td>\n",
       "    </tr>\n",
       "    <tr>\n",
       "      <th>std</th>\n",
       "      <td>8.356706</td>\n",
       "      <td>4.467168</td>\n",
       "      <td>8.413143</td>\n",
       "      <td>7.118628</td>\n",
       "      <td>38.275009</td>\n",
       "    </tr>\n",
       "    <tr>\n",
       "      <th>min</th>\n",
       "      <td>10.000000</td>\n",
       "      <td>10.000000</td>\n",
       "      <td>1.000000</td>\n",
       "      <td>1.000000</td>\n",
       "      <td>1.000000</td>\n",
       "    </tr>\n",
       "    <tr>\n",
       "      <th>25%</th>\n",
       "      <td>24.000000</td>\n",
       "      <td>13.000000</td>\n",
       "      <td>5.000000</td>\n",
       "      <td>3.000000</td>\n",
       "      <td>40.000000</td>\n",
       "    </tr>\n",
       "    <tr>\n",
       "      <th>50%</th>\n",
       "      <td>28.000000</td>\n",
       "      <td>15.000000</td>\n",
       "      <td>9.000000</td>\n",
       "      <td>6.000000</td>\n",
       "      <td>40.000000</td>\n",
       "    </tr>\n",
       "    <tr>\n",
       "      <th>75%</th>\n",
       "      <td>34.000000</td>\n",
       "      <td>18.000000</td>\n",
       "      <td>15.000000</td>\n",
       "      <td>11.000000</td>\n",
       "      <td>44.000000</td>\n",
       "    </tr>\n",
       "    <tr>\n",
       "      <th>max</th>\n",
       "      <td>60.000000</td>\n",
       "      <td>83.000000</td>\n",
       "      <td>50.000000</td>\n",
       "      <td>50.000000</td>\n",
       "      <td>4850.000000</td>\n",
       "    </tr>\n",
       "  </tbody>\n",
       "</table>\n",
       "</div>"
      ],
      "text/plain": [
       "                Age    Age1stCode     YearsCode  YearsCodePro   WorkWeekHrs\n",
       "count  72138.000000  79223.000000  78741.000000  63894.000000  59032.000000\n",
       "mean      29.852268     16.097699     11.132802      8.127571     42.080275\n",
       "std        8.356706      4.467168      8.413143      7.118628     38.275009\n",
       "min       10.000000     10.000000      1.000000      1.000000      1.000000\n",
       "25%       24.000000     13.000000      5.000000      3.000000     40.000000\n",
       "50%       28.000000     15.000000      9.000000      6.000000     40.000000\n",
       "75%       34.000000     18.000000     15.000000     11.000000     44.000000\n",
       "max       60.000000     83.000000     50.000000     50.000000   4850.000000"
      ]
     },
     "execution_count": 23,
     "metadata": {},
     "output_type": "execute_result"
    }
   ],
   "source": [
    "df.describe()"
   ]
  },
  {
   "cell_type": "code",
   "execution_count": 24,
   "metadata": {},
   "outputs": [
    {
     "data": {
      "text/plain": [
       "'How many years have you coded professionally (as a part of your work)?'"
      ]
     },
     "execution_count": 24,
     "metadata": {},
     "output_type": "execute_result"
    }
   ],
   "source": [
    "que.YearsCodePro"
   ]
  },
  {
   "cell_type": "code",
   "execution_count": 25,
   "metadata": {},
   "outputs": [],
   "source": [
    "#survey_df.where(~(survey_df.Gender.str.contains(';', na=False)), np.nan, inplace=True)"
   ]
  },
  {
   "cell_type": "code",
   "execution_count": 26,
   "metadata": {},
   "outputs": [
    {
     "data": {
      "text/plain": [
       "Man                                                            70977\n",
       "Woman                                                           5893\n",
       "Non-binary, genderqueer, or gender non-conforming                514\n",
       "Man;Non-binary, genderqueer, or gender non-conforming            151\n",
       "Woman;Non-binary, genderqueer, or gender non-conforming          130\n",
       "Woman;Man                                                        115\n",
       "Woman;Man;Non-binary, genderqueer, or gender non-conforming       54\n",
       "Name: Gender, dtype: int64"
      ]
     },
     "execution_count": 26,
     "metadata": {},
     "output_type": "execute_result"
    }
   ],
   "source": [
    "df[\"Gender\"].value_counts()"
   ]
  },
  {
   "cell_type": "code",
   "execution_count": 27,
   "metadata": {},
   "outputs": [
    {
     "data": {
      "text/plain": [
       "Man                                                            70977\n",
       "Woman                                                           5893\n",
       "Non-binary, genderqueer, or gender non-conforming                514\n",
       "Man;Non-binary, genderqueer, or gender non-conforming            151\n",
       "Woman;Non-binary, genderqueer, or gender non-conforming          130\n",
       "Woman;Man                                                        115\n",
       "Woman;Man;Non-binary, genderqueer, or gender non-conforming       54\n",
       "Name: Gender, dtype: int64"
      ]
     },
     "execution_count": 27,
     "metadata": {},
     "output_type": "execute_result"
    }
   ],
   "source": [
    "df[\"Gender\"].value_counts()"
   ]
  },
  {
   "cell_type": "code",
   "execution_count": 28,
   "metadata": {},
   "outputs": [],
   "source": [
    "import numpy as np"
   ]
  },
  {
   "cell_type": "code",
   "execution_count": 29,
   "metadata": {},
   "outputs": [
    {
     "data": {
      "text/plain": [
       "Man                                                            70977\n",
       "Woman                                                           5893\n",
       "Non-binary, genderqueer, or gender non-conforming                514\n",
       "Man;Non-binary, genderqueer, or gender non-conforming            151\n",
       "Woman;Non-binary, genderqueer, or gender non-conforming          130\n",
       "Woman;Man                                                        115\n",
       "Woman;Man;Non-binary, genderqueer, or gender non-conforming       54\n",
       "Name: Gender, dtype: int64"
      ]
     },
     "execution_count": 29,
     "metadata": {},
     "output_type": "execute_result"
    }
   ],
   "source": [
    "df[\"Gender\"].value_counts()"
   ]
  },
  {
   "cell_type": "code",
   "execution_count": 30,
   "metadata": {},
   "outputs": [
    {
     "data": {
      "text/plain": [
       "Man                                                            70977\n",
       "Woman                                                           5893\n",
       "Non-binary, genderqueer, or gender non-conforming                514\n",
       "Man;Non-binary, genderqueer, or gender non-conforming            151\n",
       "Woman;Non-binary, genderqueer, or gender non-conforming          130\n",
       "Woman;Man                                                        115\n",
       "Woman;Man;Non-binary, genderqueer, or gender non-conforming       54\n",
       "Name: Gender, dtype: int64"
      ]
     },
     "execution_count": 30,
     "metadata": {},
     "output_type": "execute_result"
    }
   ],
   "source": [
    "df[\"Gender\"].value_counts()"
   ]
  },
  {
   "cell_type": "code",
   "execution_count": 31,
   "metadata": {},
   "outputs": [],
   "source": [
    "df.where(~(df.Gender.str.contains(';', na=False)), np.nan, inplace=True)"
   ]
  },
  {
   "cell_type": "code",
   "execution_count": 32,
   "metadata": {},
   "outputs": [
    {
     "data": {
      "text/plain": [
       "Man                                                  70977\n",
       "Woman                                                 5893\n",
       "Non-binary, genderqueer, or gender non-conforming      514\n",
       "Name: Gender, dtype: int64"
      ]
     },
     "execution_count": 32,
     "metadata": {},
     "output_type": "execute_result"
    }
   ],
   "source": [
    "df.Gender.value_counts()"
   ]
  },
  {
   "cell_type": "code",
   "execution_count": 33,
   "metadata": {},
   "outputs": [
    {
     "data": {
      "text/html": [
       "<div>\n",
       "<style scoped>\n",
       "    .dataframe tbody tr th:only-of-type {\n",
       "        vertical-align: middle;\n",
       "    }\n",
       "\n",
       "    .dataframe tbody tr th {\n",
       "        vertical-align: top;\n",
       "    }\n",
       "\n",
       "    .dataframe thead th {\n",
       "        text-align: right;\n",
       "    }\n",
       "</style>\n",
       "<table border=\"1\" class=\"dataframe\">\n",
       "  <thead>\n",
       "    <tr style=\"text-align: right;\">\n",
       "      <th></th>\n",
       "      <th>Country</th>\n",
       "      <th>Age</th>\n",
       "      <th>Gender</th>\n",
       "      <th>EdLevel</th>\n",
       "      <th>UndergradMajor</th>\n",
       "      <th>Hobbyist</th>\n",
       "      <th>Age1stCode</th>\n",
       "      <th>YearsCode</th>\n",
       "      <th>YearsCodePro</th>\n",
       "      <th>LanguageWorkedWith</th>\n",
       "      <th>LanguageDesireNextYear</th>\n",
       "      <th>Employment</th>\n",
       "      <th>DevType</th>\n",
       "      <th>WorkWeekHrs</th>\n",
       "      <th>JobSat</th>\n",
       "      <th>JobFactors</th>\n",
       "    </tr>\n",
       "  </thead>\n",
       "  <tbody>\n",
       "    <tr>\n",
       "      <th>41793</th>\n",
       "      <td>Brazil</td>\n",
       "      <td>24.0</td>\n",
       "      <td>Man</td>\n",
       "      <td>Secondary school (e.g. American high school, G...</td>\n",
       "      <td>NaN</td>\n",
       "      <td>Yes</td>\n",
       "      <td>14.0</td>\n",
       "      <td>9.0</td>\n",
       "      <td>7.0</td>\n",
       "      <td>HTML/CSS;JavaScript;Python;SQL;Swift</td>\n",
       "      <td>Clojure;Go;HTML/CSS;JavaScript;Python;Scala;SQ...</td>\n",
       "      <td>Employed full-time</td>\n",
       "      <td>Database administrator;Developer, back-end;Dev...</td>\n",
       "      <td>8.0</td>\n",
       "      <td>Slightly satisfied</td>\n",
       "      <td>Office environment or company culture;Opportun...</td>\n",
       "    </tr>\n",
       "    <tr>\n",
       "      <th>16044</th>\n",
       "      <td>United States</td>\n",
       "      <td>21.0</td>\n",
       "      <td>Man</td>\n",
       "      <td>Associate degree</td>\n",
       "      <td>Computer science, computer engineering, or sof...</td>\n",
       "      <td>Yes</td>\n",
       "      <td>15.0</td>\n",
       "      <td>8.0</td>\n",
       "      <td>NaN</td>\n",
       "      <td>Assembly;C;C#;F#;HTML/CSS;Java;JavaScript;Pyth...</td>\n",
       "      <td>C++</td>\n",
       "      <td>Employed full-time</td>\n",
       "      <td>Developer, front-end;Developer, mobile;Student</td>\n",
       "      <td>NaN</td>\n",
       "      <td>NaN</td>\n",
       "      <td>Industry that I'd be working in;Office environ...</td>\n",
       "    </tr>\n",
       "    <tr>\n",
       "      <th>55481</th>\n",
       "      <td>Viet Nam</td>\n",
       "      <td>NaN</td>\n",
       "      <td>Man</td>\n",
       "      <td>Bachelor’s degree (BA, BS, B.Eng., etc.)</td>\n",
       "      <td>Fine arts or performing arts (ex. graphic desi...</td>\n",
       "      <td>Yes</td>\n",
       "      <td>24.0</td>\n",
       "      <td>1.0</td>\n",
       "      <td>NaN</td>\n",
       "      <td>JavaScript</td>\n",
       "      <td>Python;TypeScript</td>\n",
       "      <td>Not employed, but looking for work</td>\n",
       "      <td>Data or business analyst;Data scientist or mac...</td>\n",
       "      <td>NaN</td>\n",
       "      <td>NaN</td>\n",
       "      <td>Industry that I'd be working in;Languages, fra...</td>\n",
       "    </tr>\n",
       "    <tr>\n",
       "      <th>1450</th>\n",
       "      <td>United States</td>\n",
       "      <td>48.0</td>\n",
       "      <td>Man</td>\n",
       "      <td>Other doctoral degree (Ph.D, Ed.D., etc.)</td>\n",
       "      <td>Mathematics or statistics</td>\n",
       "      <td>Yes</td>\n",
       "      <td>17.0</td>\n",
       "      <td>30.0</td>\n",
       "      <td>24.0</td>\n",
       "      <td>Python;R</td>\n",
       "      <td>NaN</td>\n",
       "      <td>Employed full-time</td>\n",
       "      <td>Data scientist or machine learning specialist</td>\n",
       "      <td>NaN</td>\n",
       "      <td>Slightly dissatisfied</td>\n",
       "      <td>Languages, frameworks, and other technologies ...</td>\n",
       "    </tr>\n",
       "  </tbody>\n",
       "</table>\n",
       "</div>"
      ],
      "text/plain": [
       "             Country   Age Gender  \\\n",
       "41793         Brazil  24.0    Man   \n",
       "16044  United States  21.0    Man   \n",
       "55481       Viet Nam   NaN    Man   \n",
       "1450   United States  48.0    Man   \n",
       "\n",
       "                                                 EdLevel  \\\n",
       "41793  Secondary school (e.g. American high school, G...   \n",
       "16044                                   Associate degree   \n",
       "55481           Bachelor’s degree (BA, BS, B.Eng., etc.)   \n",
       "1450           Other doctoral degree (Ph.D, Ed.D., etc.)   \n",
       "\n",
       "                                          UndergradMajor Hobbyist  Age1stCode  \\\n",
       "41793                                                NaN      Yes        14.0   \n",
       "16044  Computer science, computer engineering, or sof...      Yes        15.0   \n",
       "55481  Fine arts or performing arts (ex. graphic desi...      Yes        24.0   \n",
       "1450                           Mathematics or statistics      Yes        17.0   \n",
       "\n",
       "       YearsCode  YearsCodePro  \\\n",
       "41793        9.0           7.0   \n",
       "16044        8.0           NaN   \n",
       "55481        1.0           NaN   \n",
       "1450        30.0          24.0   \n",
       "\n",
       "                                      LanguageWorkedWith  \\\n",
       "41793               HTML/CSS;JavaScript;Python;SQL;Swift   \n",
       "16044  Assembly;C;C#;F#;HTML/CSS;Java;JavaScript;Pyth...   \n",
       "55481                                         JavaScript   \n",
       "1450                                            Python;R   \n",
       "\n",
       "                                  LanguageDesireNextYear  \\\n",
       "41793  Clojure;Go;HTML/CSS;JavaScript;Python;Scala;SQ...   \n",
       "16044                                                C++   \n",
       "55481                                  Python;TypeScript   \n",
       "1450                                                 NaN   \n",
       "\n",
       "                               Employment  \\\n",
       "41793                  Employed full-time   \n",
       "16044                  Employed full-time   \n",
       "55481  Not employed, but looking for work   \n",
       "1450                   Employed full-time   \n",
       "\n",
       "                                                 DevType  WorkWeekHrs  \\\n",
       "41793  Database administrator;Developer, back-end;Dev...          8.0   \n",
       "16044     Developer, front-end;Developer, mobile;Student          NaN   \n",
       "55481  Data or business analyst;Data scientist or mac...          NaN   \n",
       "1450       Data scientist or machine learning specialist          NaN   \n",
       "\n",
       "                      JobSat  \\\n",
       "41793     Slightly satisfied   \n",
       "16044                    NaN   \n",
       "55481                    NaN   \n",
       "1450   Slightly dissatisfied   \n",
       "\n",
       "                                              JobFactors  \n",
       "41793  Office environment or company culture;Opportun...  \n",
       "16044  Industry that I'd be working in;Office environ...  \n",
       "55481  Industry that I'd be working in;Languages, fra...  \n",
       "1450   Languages, frameworks, and other technologies ...  "
      ]
     },
     "execution_count": 33,
     "metadata": {},
     "output_type": "execute_result"
    }
   ],
   "source": [
    "df.sample(4)"
   ]
  },
  {
   "cell_type": "code",
   "execution_count": 34,
   "metadata": {},
   "outputs": [],
   "source": [
    "import matplotlib.pyplot as plt\n",
    "import seaborn as sns"
   ]
  },
  {
   "cell_type": "code",
   "execution_count": 35,
   "metadata": {},
   "outputs": [
    {
     "data": {
      "text/plain": [
       "'In which country do you currently reside?'"
      ]
     },
     "execution_count": 35,
     "metadata": {},
     "output_type": "execute_result"
    }
   ],
   "source": [
    "que[\"Country\"]"
   ]
  },
  {
   "cell_type": "code",
   "execution_count": 36,
   "metadata": {},
   "outputs": [],
   "source": [
    "country = df[\"Country\"].value_counts().head(20)"
   ]
  },
  {
   "cell_type": "code",
   "execution_count": 37,
   "metadata": {},
   "outputs": [
    {
     "data": {
      "text/plain": [
       "United States         18217\n",
       "India                  8753\n",
       "Germany                5395\n",
       "United Kingdom         4809\n",
       "Canada                 3015\n",
       "France                 2194\n",
       "Brazil                 1855\n",
       "Poland                 1740\n",
       "Netherlands            1673\n",
       "Australia              1622\n",
       "Russian Federation     1522\n",
       "Spain                  1474\n",
       "Italy                  1432\n",
       "Sweden                 1121\n",
       "Pakistan                895\n",
       "Turkey                  894\n",
       "Switzerland             891\n",
       "Israel                  830\n",
       "Ukraine                 814\n",
       "Austria                 786\n",
       "Name: Country, dtype: int64"
      ]
     },
     "execution_count": 37,
     "metadata": {},
     "output_type": "execute_result"
    }
   ],
   "source": [
    "country"
   ]
  },
  {
   "cell_type": "code",
   "execution_count": 38,
   "metadata": {},
   "outputs": [
    {
     "data": {
      "text/plain": [
       "Index(['United States', 'India', 'Germany', 'United Kingdom', 'Canada',\n",
       "       'France', 'Brazil', 'Poland', 'Netherlands', 'Australia',\n",
       "       'Russian Federation', 'Spain', 'Italy', 'Sweden', 'Pakistan', 'Turkey',\n",
       "       'Switzerland', 'Israel', 'Ukraine', 'Austria'],\n",
       "      dtype='object')"
      ]
     },
     "execution_count": 38,
     "metadata": {},
     "output_type": "execute_result"
    }
   ],
   "source": [
    "country.index"
   ]
  },
  {
   "cell_type": "code",
   "execution_count": 39,
   "metadata": {},
   "outputs": [
    {
     "data": {
      "text/plain": [
       "<matplotlib.axes._subplots.AxesSubplot at 0x1ebbbb6f940>"
      ]
     },
     "execution_count": 39,
     "metadata": {},
     "output_type": "execute_result"
    },
    {
     "data": {
      "image/png": "[encoded data removed]",
      "text/plain": [
       "<Figure size 1080x432 with 1 Axes>"
      ]
     },
     "metadata": {
      "needs_background": "light"
     },
     "output_type": "display_data"
    }
   ],
   "source": [
    "plt.figure(figsize=(15,6))\n",
    "plt.xticks(rotation = 75)\n",
    "plt.title(que['Country'])\n",
    "sns.barplot(country.index,country)"
   ]
  },
  {
   "cell_type": "code",
   "execution_count": 40,
   "metadata": {},
   "outputs": [
    {
     "data": {
      "text/plain": [
       "79"
      ]
     },
     "execution_count": 40,
     "metadata": {},
     "output_type": "execute_result"
    }
   ],
   "source": [
    "df[\"Age\"].nunique()"
   ]
  },
  {
   "cell_type": "code",
   "execution_count": 41,
   "metadata": {},
   "outputs": [
    {
     "data": {
      "text/plain": [
       "array([14. , 19. , 28. , 22. , 30. , 42. , 24. , 23. ,  nan, 21. , 31. ,\n",
       "       20. , 26. , 29. , 38. , 47. , 32. , 25. , 17. , 35. , 27. , 44. ,\n",
       "       43. , 37. , 45. , 34. , 18. , 33. , 36. , 41. , 54. , 49. , 39. ,\n",
       "       40. , 56. , 58. , 46. , 59. , 51. , 48. , 57. , 52. , 50. , 23.9,\n",
       "       55. , 15. , 16. , 53. , 17.5, 60. , 12. , 16.5, 46.5, 13. , 29.5,\n",
       "       26.5, 24.5, 10. , 36.8, 14.1, 13.5, 43.5, 22.5, 21.5, 31.5, 28.5,\n",
       "       33.6, 38.5, 30.8, 24.8, 17.3, 11. , 19.9, 23.5, 57.9, 37.5, 37.3,\n",
       "       33.5, 53.8, 31.4])"
      ]
     },
     "execution_count": 41,
     "metadata": {},
     "output_type": "execute_result"
    }
   ],
   "source": [
    "df[\"Age\"].unique()"
   ]
  },
  {
   "cell_type": "code",
   "execution_count": 42,
   "metadata": {},
   "outputs": [
    {
     "data": {
      "text/plain": [
       "(array([   77.,  1507.,  6984., 15843., 16395., 11955.,  7632.,  4397.,\n",
       "         2551.,  1807.,  1316.,   863.,   443.,     0.,     0.,     0.,\n",
       "            0.,     0.,     0.,     0.,     0.,     0.]),\n",
       " array([10, 14, 18, 22, 26, 30, 34, 38, 42, 46, 50, 54, 58, 62, 66, 70, 74,\n",
       "        78, 82, 86, 90, 94, 98]),\n",
       " <a list of 22 Patch objects>)"
      ]
     },
     "execution_count": 42,
     "metadata": {},
     "output_type": "execute_result"
    },
    {
     "data": {
      "image/png": "[encoded data removed]",
      "text/plain": [
       "<Figure size 720x360 with 1 Axes>"
      ]
     },
     "metadata": {
      "needs_background": "light"
     },
     "output_type": "display_data"
    }
   ],
   "source": [
    "plt.figure(figsize = (10,5))\n",
    "plt.title(que[\"Age\"])\n",
    "plt.hist(df[\"Age\"],bins=np.arange(10,100,4),color=\"green\")"
   ]
  },
  {
   "cell_type": "code",
   "execution_count": 43,
   "metadata": {},
   "outputs": [
    {
     "data": {
      "text/plain": [
       "array([10, 15, 20, 25, 30, 35, 40, 45, 50, 55, 60, 65, 70, 75, 80, 85, 90,\n",
       "       95])"
      ]
     },
     "execution_count": 43,
     "metadata": {},
     "output_type": "execute_result"
    }
   ],
   "source": [
    "np.arange(10,100,5)"
   ]
  },
  {
   "cell_type": "code",
   "execution_count": 44,
   "metadata": {},
   "outputs": [],
   "source": [
    "Gender = df[\"Gender\"].value_counts()"
   ]
  },
  {
   "cell_type": "code",
   "execution_count": 45,
   "metadata": {},
   "outputs": [
    {
     "data": {
      "text/plain": [
       "([<matplotlib.patches.Wedge at 0x1ebbf31f310>,\n",
       "  <matplotlib.patches.Wedge at 0x1ebbf31f7c0>,\n",
       "  <matplotlib.patches.Wedge at 0x1ebbf31fc40>],\n",
       " [Text(-1.0629984669439538, 0.28290326840601193, 'Man'),\n",
       "  Text(1.0568640888562917, -0.30502179870619134, 'Woman'),\n",
       "  Text(1.0997605171177287, -0.022952232766034558, 'Non-binary, genderqueer, or gender non-conforming')])"
      ]
     },
     "execution_count": 45,
     "metadata": {},
     "output_type": "execute_result"
    },
    {
     "data": {
      "image/png": "[encoded data removed]",
      "text/plain": [
       "<Figure size 360x360 with 1 Axes>"
      ]
     },
     "metadata": {},
     "output_type": "display_data"
    }
   ],
   "source": [
    "plt.figure(figsize = (5,5))\n",
    "plt.pie(Gender,labels = Gender.index)"
   ]
  },
  {
   "cell_type": "code",
   "execution_count": 46,
   "metadata": {},
   "outputs": [
    {
     "data": {
      "text/plain": [
       "<BarContainer object of 3 artists>"
      ]
     },
     "execution_count": 46,
     "metadata": {},
     "output_type": "execute_result"
    },
    {
     "data": {
      "image/png": "[encoded data removed]",
      "text/plain": [
       "<Figure size 360x360 with 1 Axes>"
      ]
     },
     "metadata": {
      "needs_background": "light"
     },
     "output_type": "display_data"
    }
   ],
   "source": [
    "plt.figure(figsize = (5,5))\n",
    "plt.xticks(rotation = 75)\n",
    "plt.bar(Gender.index,Gender)"
   ]
  },
  {
   "cell_type": "code",
   "execution_count": 47,
   "metadata": {},
   "outputs": [],
   "source": [
    "education = df[\"EdLevel\"].value_counts()"
   ]
  },
  {
   "cell_type": "code",
   "execution_count": 48,
   "metadata": {},
   "outputs": [
    {
     "data": {
      "text/plain": [
       "Bachelor’s degree (BA, BS, B.Eng., etc.)                                              36265\n",
       "Master’s degree (MA, MS, M.Eng., MBA, etc.)                                           17790\n",
       "Some college/university study without earning a degree                                 9283\n",
       "Secondary school (e.g. American high school, German Realschule or Gymnasium, etc.)     7715\n",
       "Associate degree                                                                       2686\n",
       "Other doctoral degree (Ph.D, Ed.D., etc.)                                              2006\n",
       "Primary/elementary school                                                              1093\n",
       "Professional degree (JD, MD, etc.)                                                     1067\n",
       "I never completed any formal education                                                  442\n",
       "Name: EdLevel, dtype: int64"
      ]
     },
     "execution_count": 48,
     "metadata": {},
     "output_type": "execute_result"
    }
   ],
   "source": [
    "education"
   ]
  },
  {
   "cell_type": "code",
   "execution_count": 49,
   "metadata": {},
   "outputs": [
    {
     "data": {
      "image/png": "[encoded data removed]",
      "text/plain": [
       "<Figure size 720x360 with 1 Axes>"
      ]
     },
     "metadata": {
      "needs_background": "light"
     },
     "output_type": "display_data"
    }
   ],
   "source": [
    "plt.figure(figsize = (10,5))\n",
    "plt.xticks(rotation = 75)\n",
    "sns.countplot(y = df.EdLevel)\n",
    "plt.ylabel=None"
   ]
  },
  {
   "cell_type": "markdown",
   "metadata": {},
   "source": [
    "Find the average age of developers when they wrote their first line of code."
   ]
  },
  {
   "cell_type": "code",
   "execution_count": 50,
   "metadata": {},
   "outputs": [],
   "source": [
    "sash = [\"Age\",\"Age1stCode\"]"
   ]
  },
  {
   "cell_type": "code",
   "execution_count": 51,
   "metadata": {},
   "outputs": [],
   "source": [
    "san = df[sash]"
   ]
  },
  {
   "cell_type": "code",
   "execution_count": 52,
   "metadata": {},
   "outputs": [
    {
     "data": {
      "text/html": [
       "<div>\n",
       "<style scoped>\n",
       "    .dataframe tbody tr th:only-of-type {\n",
       "        vertical-align: middle;\n",
       "    }\n",
       "\n",
       "    .dataframe tbody tr th {\n",
       "        vertical-align: top;\n",
       "    }\n",
       "\n",
       "    .dataframe thead th {\n",
       "        text-align: right;\n",
       "    }\n",
       "</style>\n",
       "<table border=\"1\" class=\"dataframe\">\n",
       "  <thead>\n",
       "    <tr style=\"text-align: right;\">\n",
       "      <th></th>\n",
       "      <th>Age</th>\n",
       "      <th>Age1stCode</th>\n",
       "    </tr>\n",
       "  </thead>\n",
       "  <tbody>\n",
       "    <tr>\n",
       "      <th>0</th>\n",
       "      <td>14.0</td>\n",
       "      <td>10.0</td>\n",
       "    </tr>\n",
       "    <tr>\n",
       "      <th>1</th>\n",
       "      <td>19.0</td>\n",
       "      <td>17.0</td>\n",
       "    </tr>\n",
       "    <tr>\n",
       "      <th>2</th>\n",
       "      <td>28.0</td>\n",
       "      <td>22.0</td>\n",
       "    </tr>\n",
       "    <tr>\n",
       "      <th>3</th>\n",
       "      <td>22.0</td>\n",
       "      <td>16.0</td>\n",
       "    </tr>\n",
       "    <tr>\n",
       "      <th>4</th>\n",
       "      <td>30.0</td>\n",
       "      <td>14.0</td>\n",
       "    </tr>\n",
       "    <tr>\n",
       "      <th>...</th>\n",
       "      <td>...</td>\n",
       "      <td>...</td>\n",
       "    </tr>\n",
       "    <tr>\n",
       "      <th>88878</th>\n",
       "      <td>NaN</td>\n",
       "      <td>NaN</td>\n",
       "    </tr>\n",
       "    <tr>\n",
       "      <th>88879</th>\n",
       "      <td>NaN</td>\n",
       "      <td>NaN</td>\n",
       "    </tr>\n",
       "    <tr>\n",
       "      <th>88880</th>\n",
       "      <td>NaN</td>\n",
       "      <td>NaN</td>\n",
       "    </tr>\n",
       "    <tr>\n",
       "      <th>88881</th>\n",
       "      <td>NaN</td>\n",
       "      <td>NaN</td>\n",
       "    </tr>\n",
       "    <tr>\n",
       "      <th>88882</th>\n",
       "      <td>18.0</td>\n",
       "      <td>11.0</td>\n",
       "    </tr>\n",
       "  </tbody>\n",
       "</table>\n",
       "<p>80996 rows × 2 columns</p>\n",
       "</div>"
      ],
      "text/plain": [
       "        Age  Age1stCode\n",
       "0      14.0        10.0\n",
       "1      19.0        17.0\n",
       "2      28.0        22.0\n",
       "3      22.0        16.0\n",
       "4      30.0        14.0\n",
       "...     ...         ...\n",
       "88878   NaN         NaN\n",
       "88879   NaN         NaN\n",
       "88880   NaN         NaN\n",
       "88881   NaN         NaN\n",
       "88882  18.0        11.0\n",
       "\n",
       "[80996 rows x 2 columns]"
      ]
     },
     "execution_count": 52,
     "metadata": {},
     "output_type": "execute_result"
    }
   ],
   "source": [
    "san"
   ]
  },
  {
   "cell_type": "code",
   "execution_count": 53,
   "metadata": {},
   "outputs": [
    {
     "data": {
      "text/plain": [
       "Index(['Country', 'Age', 'Gender', 'EdLevel', 'UndergradMajor', 'Hobbyist',\n",
       "       'Age1stCode', 'YearsCode', 'YearsCodePro', 'LanguageWorkedWith',\n",
       "       'LanguageDesireNextYear', 'Employment', 'DevType', 'WorkWeekHrs',\n",
       "       'JobSat', 'JobFactors'],\n",
       "      dtype='object')"
      ]
     },
     "execution_count": 53,
     "metadata": {},
     "output_type": "execute_result"
    }
   ],
   "source": [
    "df.columns"
   ]
  },
  {
   "cell_type": "code",
   "execution_count": 54,
   "metadata": {},
   "outputs": [
    {
     "data": {
      "text/plain": [
       "'What was your main or most important field of study?'"
      ]
     },
     "execution_count": 54,
     "metadata": {},
     "output_type": "execute_result"
    }
   ],
   "source": [
    "que[\"UndergradMajor\"]"
   ]
  },
  {
   "cell_type": "code",
   "execution_count": 55,
   "metadata": {},
   "outputs": [],
   "source": [
    "UndergradMajor = df[\"UndergradMajor\"].value_counts()"
   ]
  },
  {
   "cell_type": "code",
   "execution_count": 56,
   "metadata": {},
   "outputs": [
    {
     "data": {
      "text/plain": [
       "<matplotlib.axes._subplots.AxesSubplot at 0x1ebbf3c48e0>"
      ]
     },
     "execution_count": 56,
     "metadata": {},
     "output_type": "execute_result"
    },
    {
     "data": {
      "image/png": "[encoded data removed]",
      "text/plain": [
       "<Figure size 432x288 with 1 Axes>"
      ]
     },
     "metadata": {
      "needs_background": "light"
     },
     "output_type": "display_data"
    }
   ],
   "source": [
    "sns.barplot(UndergradMajor,UndergradMajor.index)"
   ]
  },
  {
   "cell_type": "code",
   "execution_count": 57,
   "metadata": {},
   "outputs": [
    {
     "data": {
      "text/plain": [
       "68943"
      ]
     },
     "execution_count": 57,
     "metadata": {},
     "output_type": "execute_result"
    }
   ],
   "source": [
    "df[\"UndergradMajor\"].count()"
   ]
  },
  {
   "cell_type": "code",
   "execution_count": 58,
   "metadata": {},
   "outputs": [
    {
     "data": {
      "text/plain": [
       "Computer science, computer engineering, or software engineering          43286\n",
       "Another engineering discipline (ex. civil, electrical, mechanical)        5670\n",
       "Information systems, information technology, or system administration     4889\n",
       "Web development or web design                                             3223\n",
       "A natural science (ex. biology, chemistry, physics)                       2810\n",
       "Mathematics or statistics                                                 2581\n",
       "A business discipline (ex. accounting, finance, marketing)                1695\n",
       "A humanities discipline (ex. literature, history, philosophy)             1380\n",
       "A social science (ex. anthropology, psychology, political science)        1216\n",
       "Fine arts or performing arts (ex. graphic design, music, studio art)      1066\n",
       "I never declared a major                                                   840\n",
       "A health science (ex. nursing, pharmacy, radiology)                        287\n",
       "Name: UndergradMajor, dtype: int64"
      ]
     },
     "execution_count": 58,
     "metadata": {},
     "output_type": "execute_result"
    }
   ],
   "source": [
    "UndergradMajor"
   ]
  },
  {
   "cell_type": "code",
   "execution_count": 59,
   "metadata": {},
   "outputs": [],
   "source": [
    "persennt = df[\"UndergradMajor\"].value_counts() *100/df[\"UndergradMajor\"].count()"
   ]
  },
  {
   "cell_type": "code",
   "execution_count": 60,
   "metadata": {},
   "outputs": [
    {
     "data": {
      "text/plain": [
       "Computer science, computer engineering, or software engineering          62.785199\n",
       "Another engineering discipline (ex. civil, electrical, mechanical)        8.224185\n",
       "Information systems, information technology, or system administration     7.091365\n",
       "Web development or web design                                             4.674876\n",
       "A natural science (ex. biology, chemistry, physics)                       4.075831\n",
       "Mathematics or statistics                                                 3.743672\n",
       "A business discipline (ex. accounting, finance, marketing)                2.458553\n",
       "A humanities discipline (ex. literature, history, philosophy)             2.001654\n",
       "A social science (ex. anthropology, psychology, political science)        1.763776\n",
       "Fine arts or performing arts (ex. graphic design, music, studio art)      1.546205\n",
       "I never declared a major                                                  1.218398\n",
       "A health science (ex. nursing, pharmacy, radiology)                       0.416286\n",
       "Name: UndergradMajor, dtype: float64"
      ]
     },
     "execution_count": 60,
     "metadata": {},
     "output_type": "execute_result"
    }
   ],
   "source": [
    "persennt"
   ]
  },
  {
   "cell_type": "code",
   "execution_count": 61,
   "metadata": {},
   "outputs": [
    {
     "data": {
      "text/plain": [
       "<matplotlib.axes._subplots.AxesSubplot at 0x1ebbfbbeb20>"
      ]
     },
     "execution_count": 61,
     "metadata": {},
     "output_type": "execute_result"
    },
    {
     "data": {
      "image/png": "[encoded data removed]",
      "text/plain": [
       "<Figure size 432x288 with 1 Axes>"
      ]
     },
     "metadata": {
      "needs_background": "light"
     },
     "output_type": "display_data"
    }
   ],
   "source": [
    "sns.barplot(persennt, persennt.index)"
   ]
  },
  {
   "cell_type": "code",
   "execution_count": 62,
   "metadata": {},
   "outputs": [
    {
     "data": {
      "text/plain": [
       "Index(['Country', 'Age', 'Gender', 'EdLevel', 'UndergradMajor', 'Hobbyist',\n",
       "       'Age1stCode', 'YearsCode', 'YearsCodePro', 'LanguageWorkedWith',\n",
       "       'LanguageDesireNextYear', 'Employment', 'DevType', 'WorkWeekHrs',\n",
       "       'JobSat', 'JobFactors'],\n",
       "      dtype='object')"
      ]
     },
     "execution_count": 62,
     "metadata": {},
     "output_type": "execute_result"
    }
   ],
   "source": [
    "df.columns"
   ]
  },
  {
   "cell_type": "code",
   "execution_count": 63,
   "metadata": {},
   "outputs": [],
   "source": [
    "Employment = df.Employment.value_counts()*100/df.Employment.count()"
   ]
  },
  {
   "cell_type": "code",
   "execution_count": 64,
   "metadata": {},
   "outputs": [
    {
     "data": {
      "text/plain": [
       "<matplotlib.axes._subplots.AxesSubplot at 0x1ebbfc58c70>"
      ]
     },
     "execution_count": 64,
     "metadata": {},
     "output_type": "execute_result"
    },
    {
     "data": {
      "image/png": "[encoded data removed]",
      "text/plain": [
       "<Figure size 432x288 with 1 Axes>"
      ]
     },
     "metadata": {
      "needs_background": "light"
     },
     "output_type": "display_data"
    }
   ],
   "source": [
    "sns.barplot(Employment,Employment.index)"
   ]
  },
  {
   "cell_type": "code",
   "execution_count": 65,
   "metadata": {},
   "outputs": [
    {
     "data": {
      "text/plain": [
       "Index(['Country', 'Age', 'Gender', 'EdLevel', 'UndergradMajor', 'Hobbyist',\n",
       "       'Age1stCode', 'YearsCode', 'YearsCodePro', 'LanguageWorkedWith',\n",
       "       'LanguageDesireNextYear', 'Employment', 'DevType', 'WorkWeekHrs',\n",
       "       'JobSat', 'JobFactors'],\n",
       "      dtype='object')"
      ]
     },
     "execution_count": 65,
     "metadata": {},
     "output_type": "execute_result"
    }
   ],
   "source": [
    "df.columns"
   ]
  },
  {
   "cell_type": "code",
   "execution_count": 66,
   "metadata": {},
   "outputs": [
    {
     "data": {
      "text/plain": [
       "'Which of the following describe you? Please select all that apply.'"
      ]
     },
     "execution_count": 66,
     "metadata": {},
     "output_type": "execute_result"
    }
   ],
   "source": [
    "que.DevType"
   ]
  },
  {
   "cell_type": "code",
   "execution_count": 67,
   "metadata": {},
   "outputs": [
    {
     "data": {
      "text/plain": [
       "0                                                   NaN\n",
       "1     Developer, desktop or enterprise applications;...\n",
       "2     Designer;Developer, back-end;Developer, front-...\n",
       "3                                 Developer, full-stack\n",
       "4     Academic researcher;Developer, desktop or ente...\n",
       "5     Data or business analyst;Data scientist or mac...\n",
       "6                         Designer;Developer, front-end\n",
       "7        Developer, back-end;Engineer, site reliability\n",
       "8     Database administrator;Developer, back-end;Dev...\n",
       "9     Data or business analyst;Data scientist or mac...\n",
       "10                                                  NaN\n",
       "11    Data or business analyst;Data scientist or mac...\n",
       "12    Data or business analyst;Database administrato...\n",
       "13        Developer, desktop or enterprise applications\n",
       "14                                              Student\n",
       "Name: DevType, dtype: object"
      ]
     },
     "execution_count": 67,
     "metadata": {},
     "output_type": "execute_result"
    }
   ],
   "source": [
    "df.DevType.head(15)"
   ]
  },
  {
   "cell_type": "code",
   "execution_count": 68,
   "metadata": {},
   "outputs": [],
   "source": [
    "DevType = df[\"DevType\"].to_frame()"
   ]
  },
  {
   "cell_type": "code",
   "execution_count": 70,
   "metadata": {},
   "outputs": [],
   "source": [
    "def split_multicolumn(col_series):\n",
    "    result_df = col_series.to_frame()\n",
    "    options = []\n",
    "    # Iterate over the column\n",
    "    for idx, value  in col_series[col_series.notnull()].iteritems():\n",
    "        # Break each value into list of options\n",
    "        for option in value.split(';'):\n",
    "            # Add the option as a column to result\n",
    "            if not option in result_df.columns:\n",
    "                options.append(option)\n",
    "                result_df[option] = False \n",
    "            # Mark the value in the option column as True\n",
    "            result_df.at[idx, option] = True\n",
    "    return result_df[options]"
   ]
  },
  {
   "cell_type": "code",
   "execution_count": 71,
   "metadata": {},
   "outputs": [
    {
     "data": {
      "text/plain": [
       "array(['Not employed, and not looking for work',\n",
       "       'Not employed, but looking for work', 'Employed full-time',\n",
       "       'Independent contractor, freelancer, or self-employed', nan,\n",
       "       'Employed part-time', 'Retired'], dtype=object)"
      ]
     },
     "execution_count": 71,
     "metadata": {},
     "output_type": "execute_result"
    }
   ],
   "source": [
    "df[\"Employment\"].unique()"
   ]
  },
  {
   "cell_type": "code",
   "execution_count": 72,
   "metadata": {},
   "outputs": [
    {
     "data": {
      "text/plain": [
       "United States     18217\n",
       "India              8753\n",
       "Germany            5395\n",
       "United Kingdom     4809\n",
       "Canada             3015\n",
       "France             2194\n",
       "Brazil             1855\n",
       "Poland             1740\n",
       "Netherlands        1673\n",
       "Australia          1622\n",
       "Name: Country, dtype: int64"
      ]
     },
     "execution_count": 72,
     "metadata": {},
     "output_type": "execute_result"
    }
   ],
   "source": [
    "df[\"Country\"].value_counts().nlargest(10)"
   ]
  },
  {
   "cell_type": "markdown",
   "metadata": {},
   "source": [
    " <h1> d . Based on this survey, what will be the most desired programming language for the\n",
    "       year 2020? <h1>"
   ]
  },
  {
   "cell_type": "code",
   "execution_count": 73,
   "metadata": {},
   "outputs": [
    {
     "data": {
      "text/plain": [
       "0                          HTML/CSS;Java;JavaScript;Python\n",
       "1                                      C++;HTML/CSS;Python\n",
       "2                                                 HTML/CSS\n",
       "3                                      C;C++;C#;Python;SQL\n",
       "4              C++;HTML/CSS;Java;JavaScript;Python;SQL;VBA\n",
       "                               ...                        \n",
       "88878                        HTML/CSS;JavaScript;Other(s):\n",
       "88879                                                  NaN\n",
       "88880                                                  NaN\n",
       "88881                                                  NaN\n",
       "88882    Bash/Shell/PowerShell;HTML/CSS;Java;JavaScript...\n",
       "Name: LanguageWorkedWith, Length: 80996, dtype: object"
      ]
     },
     "execution_count": 73,
     "metadata": {},
     "output_type": "execute_result"
    }
   ],
   "source": [
    "df[\"LanguageWorkedWith\"]"
   ]
  },
  {
   "cell_type": "code",
   "execution_count": 74,
   "metadata": {},
   "outputs": [],
   "source": [
    "def splitData(df):\n",
    "    results=[]\n",
    "    for i in df:\n",
    "        if(';' in i):\n",
    "            new=i.split('; ')\n",
    "            for j in new:\n",
    "                results.append(j)\n",
    "        else:\n",
    "            results.append(i)\n",
    "    return results"
   ]
  },
  {
   "cell_type": "code",
   "execution_count": 77,
   "metadata": {},
   "outputs": [
    {
     "ename": "TypeError",
     "evalue": "'NoneType' object is not callable",
     "output_type": "error",
     "traceback": [
      "\u001b[1;31m---------------------------------------------------------------------------\u001b[0m",
      "\u001b[1;31mTypeError\u001b[0m                                 Traceback (most recent call last)",
      "\u001b[1;32m<ipython-input-77-a263df3512b1>\u001b[0m in \u001b[0;36m<module>\u001b[1;34m\u001b[0m\n\u001b[0;32m      7\u001b[0m \u001b[0mplt\u001b[0m\u001b[1;33m.\u001b[0m\u001b[0mfigure\u001b[0m\u001b[1;33m(\u001b[0m\u001b[0mfigsize\u001b[0m\u001b[1;33m=\u001b[0m\u001b[1;33m(\u001b[0m\u001b[1;36m15\u001b[0m\u001b[1;33m,\u001b[0m\u001b[1;36m8\u001b[0m\u001b[1;33m)\u001b[0m\u001b[1;33m)\u001b[0m\u001b[1;33m\u001b[0m\u001b[1;33m\u001b[0m\u001b[0m\n\u001b[0;32m      8\u001b[0m \u001b[0mplt\u001b[0m\u001b[1;33m.\u001b[0m\u001b[0mbarh\u001b[0m\u001b[1;33m(\u001b[0m\u001b[0mlangs\u001b[0m\u001b[1;33m,\u001b[0m\u001b[0mcountlangs\u001b[0m\u001b[1;33m)\u001b[0m\u001b[1;33m\u001b[0m\u001b[1;33m\u001b[0m\u001b[0m\n\u001b[1;32m----> 9\u001b[1;33m \u001b[0mplt\u001b[0m\u001b[1;33m.\u001b[0m\u001b[0mylabel\u001b[0m\u001b[1;33m(\u001b[0m\u001b[1;34m\"Technologies\"\u001b[0m\u001b[1;33m)\u001b[0m\u001b[1;33m\u001b[0m\u001b[1;33m\u001b[0m\u001b[0m\n\u001b[0m\u001b[0;32m     10\u001b[0m \u001b[0mplt\u001b[0m\u001b[1;33m.\u001b[0m\u001b[0mxlabel\u001b[0m\u001b[1;33m(\u001b[0m\u001b[1;34m\"Percentage\"\u001b[0m\u001b[1;33m)\u001b[0m\u001b[1;33m\u001b[0m\u001b[1;33m\u001b[0m\u001b[0m\n\u001b[0;32m     11\u001b[0m \u001b[0mplt\u001b[0m\u001b[1;33m.\u001b[0m\u001b[0mshow\u001b[0m\u001b[1;33m(\u001b[0m\u001b[1;33m)\u001b[0m\u001b[1;33m\u001b[0m\u001b[1;33m\u001b[0m\u001b[0m\n",
      "\u001b[1;31mTypeError\u001b[0m: 'NoneType' object is not callable"
     ]
    },
    {
     "data": {
      "image/png": "[encoded data removed]",
      "text/plain": [
       "<Figure size 1080x576 with 1 Axes>"
      ]
     },
     "metadata": {
      "needs_background": "light"
     },
     "output_type": "display_data"
    }
   ],
   "source": [
    "langdata=splitData(df['LanguageWorkedWith'].dropna())\n",
    "langs=['JavaScript','SQL','Java','C#','Python','PHP','C++','C','TypeScript','Ruby','Objective-C','Swift','VB.NET','Go',\n",
    "      'Perl','Scala','Groovy','Assembly','CoffeeScript','VBA','R','Matlab','Visual Basic 6','Lua','Haskell']    \n",
    "countlangs=[]\n",
    "for lang in langs:\n",
    "    countlangs.append(langdata.count(lang)*100/len(df['LanguageWorkedWith'].dropna()))\n",
    "plt.figure(figsize=(15,8))\n",
    "plt.barh(langs,countlangs)\n",
    "plt.ylabel(\"Technologies\")\n",
    "plt.xlabel(\"Percentage\")\n",
    "plt.show()"
   ]
  },
  {
   "cell_type": "code",
   "execution_count": 76,
   "metadata": {},
   "outputs": [
    {
     "data": {
      "text/plain": [
       "array(['HTML/CSS;Java;JavaScript;Python', 'C++;HTML/CSS;Python',\n",
       "       'HTML/CSS', ...,\n",
       "       'Bash/Shell/PowerShell;C++;C#;HTML/CSS;Python;Ruby',\n",
       "       'Assembly;C++;HTML/CSS;VBA',\n",
       "       'Assembly;Bash/Shell/PowerShell;C;C#;HTML/CSS;Java;JavaScript;PHP;SQL;Other(s):'],\n",
       "      dtype=object)"
      ]
     },
     "execution_count": 76,
     "metadata": {},
     "output_type": "execute_result"
    }
   ],
   "source": [
    "df[\"LanguageWorkedWith\"].unique()"
   ]
  },
  {
   "cell_type": "code",
   "execution_count": 78,
   "metadata": {},
   "outputs": [],
   "source": [
    "col = df.columns"
   ]
  },
  {
   "cell_type": "code",
   "execution_count": 79,
   "metadata": {},
   "outputs": [
    {
     "data": {
      "text/plain": [
       "Index(['Country', 'Age', 'Gender', 'EdLevel', 'UndergradMajor', 'Hobbyist',\n",
       "       'Age1stCode', 'YearsCode', 'YearsCodePro', 'LanguageWorkedWith',\n",
       "       'LanguageDesireNextYear', 'Employment', 'DevType', 'WorkWeekHrs',\n",
       "       'JobSat', 'JobFactors'],\n",
       "      dtype='object')"
      ]
     },
     "execution_count": 79,
     "metadata": {},
     "output_type": "execute_result"
    }
   ],
   "source": [
    "df.columns"
   ]
  },
  {
   "cell_type": "code",
   "execution_count": 80,
   "metadata": {},
   "outputs": [
    {
     "name": "stdout",
     "output_type": "stream",
     "text": [
      "United States                       18217\n",
      "India                                8753\n",
      "Germany                              5395\n",
      "United Kingdom                       4809\n",
      "Canada                               3015\n",
      "                                    ...  \n",
      "Saint Vincent and the Grenadines        1\n",
      "Chad                                    1\n",
      "Timor-Leste                             1\n",
      "Tonga                                   1\n",
      "North Korea                             1\n",
      "Name: Country, Length: 177, dtype: int64\n",
      "25.0    4453\n",
      "24.0    4266\n",
      "27.0    4243\n",
      "26.0    4213\n",
      "28.0    4165\n",
      "        ... \n",
      "31.5       1\n",
      "19.9       1\n",
      "43.5       1\n",
      "33.6       1\n",
      "24.8       1\n",
      "Name: Age, Length: 79, dtype: int64\n",
      "Man                                                  70977\n",
      "Woman                                                 5893\n",
      "Non-binary, genderqueer, or gender non-conforming      514\n",
      "Name: Gender, dtype: int64\n",
      "Bachelor’s degree (BA, BS, B.Eng., etc.)                                              36265\n",
      "Master’s degree (MA, MS, M.Eng., MBA, etc.)                                           17790\n",
      "Some college/university study without earning a degree                                 9283\n",
      "Secondary school (e.g. American high school, German Realschule or Gymnasium, etc.)     7715\n",
      "Associate degree                                                                       2686\n",
      "Other doctoral degree (Ph.D, Ed.D., etc.)                                              2006\n",
      "Primary/elementary school                                                              1093\n",
      "Professional degree (JD, MD, etc.)                                                     1067\n",
      "I never completed any formal education                                                  442\n",
      "Name: EdLevel, dtype: int64\n",
      "Computer science, computer engineering, or software engineering          43286\n",
      "Another engineering discipline (ex. civil, electrical, mechanical)        5670\n",
      "Information systems, information technology, or system administration     4889\n",
      "Web development or web design                                             3223\n",
      "A natural science (ex. biology, chemistry, physics)                       2810\n",
      "Mathematics or statistics                                                 2581\n",
      "A business discipline (ex. accounting, finance, marketing)                1695\n",
      "A humanities discipline (ex. literature, history, philosophy)             1380\n",
      "A social science (ex. anthropology, psychology, political science)        1216\n",
      "Fine arts or performing arts (ex. graphic design, music, studio art)      1066\n",
      "I never declared a major                                                   840\n",
      "A health science (ex. nursing, pharmacy, radiology)                        287\n",
      "Name: UndergradMajor, dtype: int64\n",
      "Yes    64046\n",
      "No     16500\n",
      "Name: Hobbyist, dtype: int64\n",
      "15.0    8614\n",
      "16.0    8542\n",
      "14.0    8378\n",
      "18.0    7834\n",
      "12.0    7683\n",
      "13.0    6318\n",
      "17.0    5821\n",
      "10.0    5016\n",
      "19.0    4480\n",
      "20.0    3647\n",
      "11.0    3472\n",
      "21.0    1897\n",
      "22.0    1674\n",
      "23.0    1031\n",
      "25.0     865\n",
      "24.0     817\n",
      "26.0     476\n",
      "27.0     403\n",
      "30.0     357\n",
      "28.0     326\n",
      "29.0     234\n",
      "32.0     132\n",
      "31.0     125\n",
      "35.0     123\n",
      "33.0     119\n",
      "34.0      88\n",
      "40.0      56\n",
      "37.0      39\n",
      "38.0      39\n",
      "36.0      37\n",
      "39.0      21\n",
      "43.0      18\n",
      "42.0      17\n",
      "45.0      17\n",
      "44.0      15\n",
      "41.0      13\n",
      "50.0      10\n",
      "49.0       9\n",
      "47.0       8\n",
      "46.0       7\n",
      "55.0       6\n",
      "54.0       4\n",
      "56.0       4\n",
      "60.0       3\n",
      "51.0       3\n",
      "53.0       2\n",
      "48.0       2\n",
      "83.0       1\n",
      "52.0       1\n",
      "57.0       1\n",
      "58.0       1\n",
      "77.0       1\n",
      "79.0       1\n",
      "Name: Age1stCode, dtype: int64\n",
      "5.0     6628\n",
      "10.0    6310\n",
      "6.0     5804\n",
      "4.0     5445\n",
      "8.0     5060\n",
      "7.0     5042\n",
      "3.0     4946\n",
      "2.0     3793\n",
      "15.0    3601\n",
      "12.0    3264\n",
      "9.0     3165\n",
      "20.0    3091\n",
      "11.0    2101\n",
      "14.0    1957\n",
      "13.0    1874\n",
      "1.0     1703\n",
      "18.0    1680\n",
      "16.0    1464\n",
      "25.0    1299\n",
      "17.0    1222\n",
      "30.0    1109\n",
      "19.0     879\n",
      "22.0     842\n",
      "35.0     672\n",
      "23.0     612\n",
      "21.0     586\n",
      "24.0     533\n",
      "40.0     381\n",
      "28.0     349\n",
      "27.0     313\n",
      "32.0     296\n",
      "26.0     294\n",
      "38.0     274\n",
      "34.0     240\n",
      "33.0     240\n",
      "37.0     236\n",
      "36.0     231\n",
      "29.0     167\n",
      "31.0     141\n",
      "39.0     135\n",
      "42.0      78\n",
      "41.0      67\n",
      "45.0      62\n",
      "43.0      56\n",
      "44.0      28\n",
      "46.0      13\n",
      "47.0      13\n",
      "50.0      11\n",
      "48.0       7\n",
      "49.0       6\n",
      "Name: YearsCode, dtype: int64\n",
      "2.0     7555\n",
      "3.0     7396\n",
      "5.0     6020\n",
      "4.0     5958\n",
      "1.0     4202\n",
      "6.0     4201\n",
      "10.0    3877\n",
      "7.0     3392\n",
      "8.0     3186\n",
      "12.0    1925\n",
      "9.0     1806\n",
      "15.0    1755\n",
      "20.0    1629\n",
      "11.0    1470\n",
      "13.0    1193\n",
      "14.0     969\n",
      "18.0     962\n",
      "16.0     640\n",
      "19.0     624\n",
      "25.0     606\n",
      "22.0     528\n",
      "17.0     523\n",
      "30.0     473\n",
      "21.0     429\n",
      "23.0     362\n",
      "24.0     281\n",
      "28.0     204\n",
      "27.0     181\n",
      "35.0     181\n",
      "26.0     165\n",
      "32.0     150\n",
      "29.0     120\n",
      "33.0     119\n",
      "31.0     107\n",
      "34.0      96\n",
      "36.0      72\n",
      "38.0      57\n",
      "37.0      49\n",
      "40.0      47\n",
      "39.0      35\n",
      "42.0      16\n",
      "41.0      11\n",
      "43.0       5\n",
      "50.0       4\n",
      "45.0       4\n",
      "44.0       3\n",
      "47.0       2\n",
      "46.0       2\n",
      "Name: YearsCodePro, dtype: int64\n",
      "HTML/CSS;JavaScript;PHP;SQL                                                                  1398\n",
      "C#;HTML/CSS;JavaScript;SQL                                                                   1325\n",
      "HTML/CSS;JavaScript                                                                          1188\n",
      "C#;HTML/CSS;JavaScript;SQL;TypeScript                                                         907\n",
      "Java                                                                                          882\n",
      "                                                                                             ... \n",
      "C;C++;C#;HTML/CSS;Java;SQL;Other(s):                                                            1\n",
      "Bash/Shell/PowerShell;C;Erlang;F#;Go;Rust                                                       1\n",
      "Bash/Shell/PowerShell;C;C++;Java;JavaScript;Python;Rust;Scala;WebAssembly                       1\n",
      "Assembly;Bash/Shell/PowerShell;C;C++;HTML/CSS;JavaScript;Python;Rust;SQL;WebAssembly            1\n",
      "Bash/Shell/PowerShell;C;C++;C#;HTML/CSS;JavaScript;PHP;Python;R;Ruby;Swift;TypeScript;VBA       1\n",
      "Name: LanguageWorkedWith, Length: 18247, dtype: int64\n",
      "Python                                                                             1137\n",
      "HTML/CSS;JavaScript                                                                 658\n",
      "HTML/CSS;JavaScript;TypeScript                                                      617\n",
      "C#                                                                                  566\n",
      "Java                                                                                543\n",
      "                                                                                   ... \n",
      "Bash/Shell/PowerShell;Dart;Go;HTML/CSS;JavaScript;Kotlin;Python;Ruby;TypeScript       1\n",
      "C#;Dart;Go;HTML/CSS;Java;JavaScript;Python;R;SQL;Swift;TypeScript                     1\n",
      "C#;Dart;JavaScript;Python;Ruby;SQL                                                    1\n",
      "R;SQL;WebAssembly                                                                     1\n",
      "C#;Python;R;TypeScript                                                                1\n",
      "Name: LanguageDesireNextYear, Length: 24944, dtype: int64\n",
      "Employed full-time                                      58936\n",
      "Independent contractor, freelancer, or self-employed     7434\n",
      "Not employed, but looking for work                       5215\n",
      "Employed part-time                                       4111\n",
      "Not employed, and not looking for work                   3248\n",
      "Retired                                                   143\n",
      "Name: Employment, dtype: int64\n",
      "Developer, full-stack                                                                                                                                                                                                                                                  7850\n",
      "Developer, back-end                                                                                                                                                                                                                                                    4535\n",
      "Developer, back-end;Developer, front-end;Developer, full-stack                                                                                                                                                                                                         2237\n",
      "Developer, front-end                                                                                                                                                                                                                                                   2100\n",
      "Developer, mobile                                                                                                                                                                                                                                                      2064\n",
      "                                                                                                                                                                                                                                                                       ... \n",
      "Academic researcher;Database administrator;Developer, back-end;Developer, desktop or enterprise applications;Developer, embedded applications or devices;Developer, front-end;Developer, full-stack;Developer, mobile;Engineer, data;Scientist;System administrator       1\n",
      "Academic researcher;Developer, back-end;Developer, mobile;Educator;System administrator                                                                                                                                                                                   1\n",
      "Data scientist or machine learning specialist;Database administrator;Developer, back-end;Developer, full-stack;DevOps specialist;Engineer, data;Engineering manager;System administrator                                                                                  1\n",
      "Designer;Developer, desktop or enterprise applications;Developer, front-end;Developer, mobile;Developer, QA or test                                                                                                                                                       1\n",
      "Database administrator;Developer, embedded applications or devices;Developer, full-stack;Developer, mobile;Product manager;System administrator                                                                                                                           1\n",
      "Name: DevType, Length: 11845, dtype: int64\n",
      "40.00    27700\n",
      "45.00     5802\n",
      "50.00     4184\n",
      "35.00     2867\n",
      "37.50     1479\n",
      "         ...  \n",
      "7.25         1\n",
      "16.50        1\n",
      "39.10        1\n",
      "36.20        1\n",
      "35.75        1\n",
      "Name: WorkWeekHrs, Length: 199, dtype: int64\n",
      "Slightly satisfied                    22231\n",
      "Very satisfied                        20137\n",
      "Slightly dissatisfied                  9862\n",
      "Neither satisfied nor dissatisfied     8008\n",
      "Very dissatisfied                      4414\n",
      "Name: JobSat, dtype: int64\n",
      "Languages, frameworks, and other technologies I'd be working with;Office environment or company culture;Opportunities for professional development    4696\n",
      "Languages, frameworks, and other technologies I'd be working with;Office environment or company culture;Flex time or a flexible schedule              4531\n",
      "Languages, frameworks, and other technologies I'd be working with;Remote work options;Flex time or a flexible schedule                                4221\n",
      "Office environment or company culture;Opportunities for professional development;Flex time or a flexible schedule                                     3124\n",
      "Languages, frameworks, and other technologies I'd be working with;Opportunities for professional development;Flex time or a flexible schedule         3044\n",
      "                                                                                                                                                      ... \n",
      "Industry that I'd be working in;Diversity of the company or organization                                                                                 3\n",
      "Office environment or company culture;Diversity of the company or organization                                                                           2\n",
      "Specific department or team I'd be working on;Diversity of the company or organization                                                                   2\n",
      "Remote work options;Diversity of the company or organization                                                                                             2\n",
      "Diversity of the company or organization;Flex time or a flexible schedule                                                                                1\n",
      "Name: JobFactors, Length: 174, dtype: int64\n"
     ]
    }
   ],
   "source": [
    "for columns in col:\n",
    "    print(df[columns].value_counts())"
   ]
  },
  {
   "cell_type": "code",
   "execution_count": 81,
   "metadata": {},
   "outputs": [
    {
     "data": {
      "text/plain": [
       "array(['United Kingdom', 'Bosnia and Herzegovina', 'Thailand',\n",
       "       'United States', 'Ukraine', 'Canada', 'India', 'New Zealand',\n",
       "       'Antigua and Barbuda', 'Germany', 'Australia',\n",
       "       'Russian Federation', 'Brazil', 'Lithuania', 'Israel',\n",
       "       'South Africa', 'Colombia', 'Turkey', 'Switzerland', 'Argentina',\n",
       "       'Sri Lanka', 'Czech Republic', 'Denmark', 'Malaysia', 'Bangladesh',\n",
       "       'Spain', 'Serbia', 'Sweden', 'China', 'France', 'Netherlands',\n",
       "       'Philippines', 'Ireland', 'Pakistan', 'Azerbaijan', 'Austria',\n",
       "       'Estonia', 'Croatia', 'South Korea', 'Italy', 'Greece', 'Japan',\n",
       "       'Romania', 'Bulgaria', 'Viet Nam', 'Slovenia', 'Iran', 'Belarus',\n",
       "       'Latvia', 'Hong Kong (S.A.R.)', 'United Arab Emirates', 'Poland',\n",
       "       'Portugal', 'Nigeria', 'Norway', 'Nicaragua', 'Zimbabwe', 'Egypt',\n",
       "       'Mexico', 'Dominican Republic', 'Guatemala', 'Ecuador', 'Ghana',\n",
       "       'Uganda', 'Hungary', 'Cambodia', 'Mauritius', 'Nepal', 'Singapore',\n",
       "       'Sierra Leone', 'Republic of Moldova', 'Belgium', 'Armenia',\n",
       "       'Bahrain', 'Mongolia', 'Chile', 'Georgia', 'Cyprus', 'Kenya',\n",
       "       'Saudi Arabia', 'Cape Verde', 'Peru', 'Luxembourg', 'Burundi',\n",
       "       'Finland', 'Iraq', 'Slovakia', 'Algeria', 'Taiwan', 'Yemen',\n",
       "       'Indonesia', 'Morocco', 'Libyan Arab Jamahiriya', 'Belize', nan,\n",
       "       'Mali', 'Trinidad and Tobago',\n",
       "       'Venezuela, Bolivarian Republic of...', 'Panama', 'Lebanon',\n",
       "       'Tunisia', 'Kuwait', 'Andorra', \"Côte d'Ivoire\",\n",
       "       'Syrian Arab Republic', 'El Salvador', 'Cameroon', 'Malta',\n",
       "       'Turkmenistan', 'Brunei Darussalam',\n",
       "       'Other Country (Not Listed Above)', 'Costa Rica', 'Jordan',\n",
       "       'Albania', 'Uzbekistan', 'Sudan', 'Kazakhstan',\n",
       "       'The former Yugoslav Republic of Macedonia', 'Ethiopia',\n",
       "       'Paraguay', 'Myanmar', 'Guyana', 'Honduras', 'Qatar', 'Jamaica',\n",
       "       'Fiji', 'Democratic Republic of the Congo', 'Benin', 'Namibia',\n",
       "       'Rwanda', 'Tajikistan', 'Uruguay', 'Mauritania', 'Bolivia',\n",
       "       'Gabon', 'Liechtenstein', 'United Republic of Tanzania',\n",
       "       'Kyrgyzstan', 'Madagascar', 'Somalia', 'Guinea', 'Afghanistan',\n",
       "       'Republic of Korea', 'Cuba', 'Maldives', 'Montenegro', 'Monaco',\n",
       "       'North Korea', 'Senegal', 'Angola', 'Iceland', 'Togo', 'Swaziland',\n",
       "       'Congo, Republic of the...', 'Zambia', 'Oman', 'Timor-Leste',\n",
       "       'Tonga', 'Djibouti', \"Democratic People's Republic of Korea\",\n",
       "       'Niger', 'Mozambique', 'Botswana', 'Barbados', 'Seychelles',\n",
       "       'Haiti', 'Lesotho', \"Lao People's Democratic Republic\",\n",
       "       'Burkina Faso', 'Saint Kitts and Nevis', 'Malawi', 'Liberia',\n",
       "       'Bhutan', 'Bahamas', 'Saint Vincent and the Grenadines',\n",
       "       'San Marino', 'Sao Tome and Principe', 'Chad'], dtype=object)"
      ]
     },
     "execution_count": 81,
     "metadata": {},
     "output_type": "execute_result"
    }
   ],
   "source": [
    "df[\"Country\"].unique()"
   ]
  },
  {
   "cell_type": "code",
   "execution_count": 82,
   "metadata": {},
   "outputs": [
    {
     "data": {
      "text/plain": [
       "[0.39709052403343126,\n",
       " 0.13236350801114374,\n",
       " 1.1118534672936076,\n",
       " 0.6630781448939201,\n",
       " 0.8723385480353474,\n",
       " 0.15757560477517113,\n",
       " 0.2735512498896971,\n",
       " 0.129842298334741,\n",
       " 0.020169677411221904,\n",
       " 0.09832717737970678,\n",
       " 0.03529693546963833,\n",
       " 0.23447249990545463,\n",
       " 0.0,\n",
       " 0.03781814514604107,\n",
       " 0.0,\n",
       " 0.05168479836625613,\n",
       " 0.0,\n",
       " 0.04916358868985339,\n",
       " 0.0,\n",
       " 0.05546661288086024,\n",
       " 0.17270286283358754,\n",
       " 0.0,\n",
       " 0.0,\n",
       " 0.0,\n",
       " 0.0]"
      ]
     },
     "execution_count": 82,
     "metadata": {},
     "output_type": "execute_result"
    }
   ],
   "source": [
    "countlangs"
   ]
  },
  {
   "cell_type": "code",
   "execution_count": 83,
   "metadata": {},
   "outputs": [
    {
     "data": {
      "text/plain": [
       "['HTML/CSS;Java;JavaScript;Python',\n",
       " 'C++;HTML/CSS;Python',\n",
       " 'HTML/CSS',\n",
       " 'C;C++;C#;Python;SQL',\n",
       " 'C++;HTML/CSS;Java;JavaScript;Python;SQL;VBA',\n",
       " 'Java;R;SQL',\n",
       " 'HTML/CSS;JavaScript',\n",
       " 'Bash/Shell/PowerShell;C;C++;HTML/CSS;Java;JavaScript;Python;SQL',\n",
       " 'Bash/Shell/PowerShell;C#;HTML/CSS;JavaScript;Python;Ruby;Rust;SQL;TypeScript;WebAssembly;Other(s):',\n",
       " 'C#;Go;JavaScript;Python;R;SQL',\n",
       " 'Other(s):',\n",
       " 'Bash/Shell/PowerShell;HTML/CSS;Java;Python;R;SQL',\n",
       " 'Bash/Shell/PowerShell;HTML/CSS;JavaScript;PHP;SQL;TypeScript',\n",
       " 'C++',\n",
       " 'Assembly;Bash/Shell/PowerShell;C;C++;HTML/CSS;Java;JavaScript;PHP;SQL',\n",
       " 'Bash/Shell/PowerShell;C#;HTML/CSS;JavaScript;TypeScript;VBA',\n",
       " 'Bash/Shell/PowerShell;HTML/CSS;JavaScript;TypeScript',\n",
       " 'Python;R',\n",
       " 'C#;HTML/CSS;Java;JavaScript;SQL;TypeScript',\n",
       " 'Bash/Shell/PowerShell;C#;HTML/CSS;Java;JavaScript;PHP;Python;R;SQL',\n",
       " 'Assembly;Bash/Shell/PowerShell;C;C++;Go;Java;JavaScript;Kotlin;Python;Rust;SQL;Swift',\n",
       " 'Bash/Shell/PowerShell;C++;HTML/CSS;JavaScript;Python;Ruby;SQL;TypeScript',\n",
       " 'Bash/Shell/PowerShell;HTML/CSS;JavaScript;Python;Ruby;SQL',\n",
       " 'HTML/CSS;JavaScript;PHP;TypeScript',\n",
       " 'HTML/CSS;JavaScript;PHP;SQL;TypeScript',\n",
       " 'C++;JavaScript;Python;Ruby;SQL;TypeScript',\n",
       " 'JavaScript;TypeScript',\n",
       " 'Bash/Shell/PowerShell;JavaScript;SQL',\n",
       " 'Python',\n",
       " 'Bash/Shell/PowerShell;HTML/CSS;JavaScript;PHP;Python',\n",
       " 'C++;Python;R',\n",
       " 'HTML/CSS;JavaScript',\n",
       " 'HTML/CSS;JavaScript',\n",
       " 'Java;Kotlin;Python',\n",
       " 'Bash/Shell/PowerShell;JavaScript;Python;Other(s):',\n",
       " 'C#;HTML/CSS;JavaScript;SQL',\n",
       " 'C#;HTML/CSS',\n",
       " 'Bash/Shell/PowerShell;C;C++;HTML/CSS;Java;JavaScript;SQL',\n",
       " 'HTML/CSS;JavaScript;PHP;TypeScript',\n",
       " 'C++;C#;HTML/CSS;Java;JavaScript;Objective-C;SQL',\n",
       " 'Bash/Shell/PowerShell;C#;HTML/CSS;Java;JavaScript;SQL;TypeScript;WebAssembly',\n",
       " 'Bash/Shell/PowerShell;C;C#;HTML/CSS;JavaScript;PHP;Python;SQL;Other(s):',\n",
       " 'Java;PHP;Ruby',\n",
       " 'HTML/CSS;PHP;SQL',\n",
       " 'Bash/Shell/PowerShell;HTML/CSS;Java;JavaScript;PHP;Python;SQL;TypeScript',\n",
       " 'Bash/Shell/PowerShell;C;C++;HTML/CSS;Java;JavaScript;PHP;Python;SQL',\n",
       " 'Bash/Shell/PowerShell;HTML/CSS;Java;JavaScript;PHP;SQL;TypeScript',\n",
       " 'Bash/Shell/PowerShell;HTML/CSS;JavaScript;Python',\n",
       " 'Java;Python;SQL',\n",
       " 'Bash/Shell/PowerShell;HTML/CSS;Java;SQL',\n",
       " 'JavaScript;Python',\n",
       " 'C#;Java;SQL',\n",
       " 'HTML/CSS;JavaScript;PHP;SQL',\n",
       " 'Bash/Shell/PowerShell;Go;JavaScript;PHP;Python;Ruby;SQL',\n",
       " 'C++;C#;HTML/CSS;JavaScript;PHP;Python;SQL;VBA',\n",
       " 'Bash/Shell/PowerShell;C++;Go;HTML/CSS;Java;JavaScript;Kotlin;PHP;Python;Ruby;SQL;TypeScript;VBA',\n",
       " 'Bash/Shell/PowerShell;C;C++;C#',\n",
       " 'Assembly;C;C++;C#;HTML/CSS;Java',\n",
       " 'C;C#;HTML/CSS;Java;JavaScript;PHP;Python;SQL;VBA',\n",
       " 'C#;HTML/CSS;Java;JavaScript;Objective-C;SQL;TypeScript',\n",
       " 'C#;HTML/CSS;JavaScript;SQL',\n",
       " 'HTML/CSS;JavaScript;PHP;Python;SQL;VBA',\n",
       " 'C#;HTML/CSS;JavaScript;PHP;SQL;TypeScript',\n",
       " 'HTML/CSS;Java;JavaScript;Kotlin;Python;Ruby',\n",
       " 'HTML/CSS;JavaScript',\n",
       " 'PHP;SQL',\n",
       " 'HTML/CSS;JavaScript;PHP;SQL',\n",
       " 'HTML/CSS;Java;JavaScript;Kotlin;Python',\n",
       " 'Bash/Shell/PowerShell;C#;F#;Go;HTML/CSS;Java;JavaScript;Python;SQL;TypeScript',\n",
       " 'Bash/Shell/PowerShell;C++;HTML/CSS;Java;JavaScript;Python;Rust',\n",
       " 'HTML/CSS;JavaScript',\n",
       " 'C;C++;C#;Java;Kotlin;PHP;SQL',\n",
       " 'Bash/Shell/PowerShell;HTML/CSS;JavaScript;PHP;Python;SQL;TypeScript',\n",
       " 'Bash/Shell/PowerShell;C#;HTML/CSS;JavaScript;PHP;Python;SQL',\n",
       " 'Bash/Shell/PowerShell;C;C++;C#;Go;HTML/CSS;Java;JavaScript;Objective-C;Python;SQL',\n",
       " 'Bash/Shell/PowerShell;Python',\n",
       " 'Bash/Shell/PowerShell;C#;HTML/CSS;Java;JavaScript;Objective-C;PHP;Python;Ruby;SQL;Swift;TypeScript',\n",
       " 'HTML/CSS;JavaScript;TypeScript',\n",
       " 'HTML/CSS;Java;JavaScript;Kotlin;SQL;VBA',\n",
       " 'Python;SQL',\n",
       " 'C#;HTML/CSS;JavaScript;SQL',\n",
       " 'C#;HTML/CSS;JavaScript;Python;R;SQL',\n",
       " 'C;C++;Java;Python;R;Scala;SQL',\n",
       " 'Bash/Shell/PowerShell;JavaScript;Python;R;SQL',\n",
       " 'HTML/CSS;Java;JavaScript;SQL',\n",
       " 'C;C++;HTML/CSS;Java;JavaScript;Kotlin;PHP;Python;SQL',\n",
       " 'Bash/Shell/PowerShell;HTML/CSS;JavaScript;SQL',\n",
       " 'C#;HTML/CSS;JavaScript;SQL;TypeScript',\n",
       " 'C#;HTML/CSS;TypeScript',\n",
       " 'Bash/Shell/PowerShell;HTML/CSS;JavaScript;SQL',\n",
       " 'Bash/Shell/PowerShell;HTML/CSS;Java;JavaScript;Python;SQL',\n",
       " 'HTML/CSS;Java;Python',\n",
       " 'C#;HTML/CSS;JavaScript;SQL',\n",
       " 'Python;SQL',\n",
       " 'Bash/Shell/PowerShell;C#;HTML/CSS;JavaScript;Python;SQL;VBA',\n",
       " 'Assembly;C;C++;C#;HTML/CSS;Java;JavaScript;Python;VBA',\n",
       " 'Bash/Shell/PowerShell;C;C++',\n",
       " 'Bash/Shell/PowerShell;C++;Erlang;JavaScript;PHP;Python',\n",
       " 'Assembly;C#;HTML/CSS;Java;JavaScript;SQL;Swift',\n",
       " 'Scala;Other(s):',\n",
       " 'C#;HTML/CSS;JavaScript;SQL;TypeScript',\n",
       " 'Bash/Shell/PowerShell;C;C++',\n",
       " 'C;C++;C#;HTML/CSS;Java;JavaScript;SQL',\n",
       " 'Elixir;HTML/CSS;JavaScript;Python;Ruby;SQL',\n",
       " 'Bash/Shell/PowerShell;C;C++;HTML/CSS;JavaScript;Python',\n",
       " 'Assembly;Bash/Shell/PowerShell;C++;Python;SQL',\n",
       " 'HTML/CSS;JavaScript;TypeScript',\n",
       " 'HTML/CSS;Java;SQL',\n",
       " 'Bash/Shell/PowerShell;Dart;HTML/CSS;Java;JavaScript;Scala',\n",
       " 'C#;SQL',\n",
       " 'Bash/Shell/PowerShell;Go;Ruby',\n",
       " 'C++;Python;R',\n",
       " 'Bash/Shell/PowerShell;C++;Clojure;HTML/CSS;Java;Python;Ruby;SQL',\n",
       " 'Java',\n",
       " 'Bash/Shell/PowerShell;C++;C#;HTML/CSS;Java;JavaScript;Objective-C;Python;TypeScript',\n",
       " 'JavaScript;PHP;SQL',\n",
       " 'C;C++;HTML/CSS;JavaScript;SQL',\n",
       " 'Go;HTML/CSS;JavaScript;TypeScript',\n",
       " 'C#;Java;PHP;Python',\n",
       " 'HTML/CSS;Java;JavaScript;PHP;SQL',\n",
       " 'Bash/Shell/PowerShell;HTML/CSS;JavaScript;PHP;Python;SQL',\n",
       " 'Java;JavaScript;Kotlin;PHP;SQL',\n",
       " 'Assembly;Bash/Shell/PowerShell;C;C++;HTML/CSS;Java;JavaScript;Python;SQL;TypeScript',\n",
       " 'Bash/Shell/PowerShell;C#',\n",
       " 'C;HTML/CSS;Java;JavaScript;Python;SQL;TypeScript',\n",
       " 'Java;SQL',\n",
       " 'Assembly;C++;Python;VBA',\n",
       " 'Bash/Shell/PowerShell;C;Python;Scala',\n",
       " 'HTML/CSS;Java;JavaScript;Kotlin',\n",
       " 'HTML/CSS;JavaScript;TypeScript',\n",
       " 'Bash/Shell/PowerShell;HTML/CSS;JavaScript;Python;SQL',\n",
       " 'Bash/Shell/PowerShell;C++;C#;HTML/CSS;Java;JavaScript;SQL;TypeScript',\n",
       " 'C;C++;Python',\n",
       " 'HTML/CSS;Java;JavaScript;PHP;SQL;VBA',\n",
       " 'Bash/Shell/PowerShell;HTML/CSS;JavaScript;TypeScript',\n",
       " 'Bash/Shell/PowerShell;Python',\n",
       " 'Bash/Shell/PowerShell;C#;HTML/CSS;JavaScript;SQL',\n",
       " 'Java;SQL;Other(s):',\n",
       " 'Bash/Shell/PowerShell;HTML/CSS;JavaScript;Python',\n",
       " 'C#',\n",
       " 'HTML/CSS;JavaScript;PHP',\n",
       " 'Bash/Shell/PowerShell;C++;HTML/CSS;Java;JavaScript;PHP;SQL',\n",
       " 'C#;HTML/CSS;JavaScript;SQL;Other(s):',\n",
       " 'C#;HTML/CSS;JavaScript;SQL',\n",
       " 'Assembly;Bash/Shell/PowerShell;C;C++;C#;JavaScript;Python;SQL',\n",
       " 'Bash/Shell/PowerShell;Go;HTML/CSS;Java;JavaScript;Ruby;SQL',\n",
       " 'HTML/CSS;Java;JavaScript;PHP;Python;SQL',\n",
       " 'Bash/Shell/PowerShell;Python',\n",
       " 'C;C++;HTML/CSS;Java;JavaScript;PHP;Python;SQL',\n",
       " 'Clojure;Go;HTML/CSS;Java;JavaScript;Python;Ruby;TypeScript',\n",
       " 'Assembly;C;C++;C#;HTML/CSS;Java;Objective-C;PHP;Python;R;SQL;Swift',\n",
       " 'HTML/CSS;JavaScript;Objective-C;SQL',\n",
       " 'HTML/CSS;JavaScript;PHP;SQL;TypeScript',\n",
       " 'Bash/Shell/PowerShell;C;C++;HTML/CSS;Java;JavaScript;PHP;Python;R',\n",
       " 'Assembly;Bash/Shell/PowerShell;C;C++;HTML/CSS;Java;JavaScript;PHP;Python;SQL',\n",
       " 'C;C++;C#;HTML/CSS;Java;JavaScript;Python;SQL',\n",
       " 'C#;Python;SQL',\n",
       " 'JavaScript;PHP;Python;Ruby;SQL;TypeScript',\n",
       " 'HTML/CSS;Java;JavaScript;Objective-C;SQL;Swift',\n",
       " 'HTML/CSS;JavaScript',\n",
       " 'Bash/Shell/PowerShell;C;C++;Go;HTML/CSS;Java;JavaScript;PHP;Python;Rust;SQL;TypeScript',\n",
       " 'Bash/Shell/PowerShell;C;C++;Java;JavaScript;Kotlin;Objective-C;Python;Rust;Swift',\n",
       " 'Bash/Shell/PowerShell;Java;Kotlin',\n",
       " 'Assembly;C;C++;HTML/CSS;Java;JavaScript;Python',\n",
       " 'HTML/CSS;JavaScript;Ruby;Scala;SQL',\n",
       " 'C#;Python;R;SQL;VBA',\n",
       " 'C++;HTML/CSS;JavaScript;Python;SQL',\n",
       " 'Java;Scala;SQL;TypeScript',\n",
       " 'C#;HTML/CSS;JavaScript;SQL;TypeScript',\n",
       " 'Bash/Shell/PowerShell;JavaScript;Python',\n",
       " 'Bash/Shell/PowerShell;HTML/CSS;JavaScript;Ruby;SQL',\n",
       " 'Assembly;Bash/Shell/PowerShell;C;HTML/CSS;Java;JavaScript;PHP',\n",
       " 'C#;TypeScript;Other(s):',\n",
       " 'HTML/CSS;R;VBA',\n",
       " 'HTML/CSS;Java;JavaScript;Python;SQL',\n",
       " 'R;SQL',\n",
       " 'Java;JavaScript;SQL;VBA',\n",
       " 'Bash/Shell/PowerShell;Go;HTML/CSS;Java;JavaScript;Python;Scala',\n",
       " 'Bash/Shell/PowerShell;C;C++;C#;HTML/CSS;Java;JavaScript;Objective-C;Python;SQL;TypeScript',\n",
       " 'C#;HTML/CSS;JavaScript;PHP',\n",
       " 'Scala;SQL',\n",
       " 'Java',\n",
       " 'Other(s):',\n",
       " 'Bash/Shell/PowerShell;HTML/CSS;JavaScript;PHP;Python;SQL',\n",
       " 'C++;Go;Java;JavaScript;Python;Rust;WebAssembly',\n",
       " 'C#;HTML/CSS;Java;JavaScript;Objective-C;SQL',\n",
       " 'C#;HTML/CSS;Java;JavaScript;PHP',\n",
       " 'Go;Python',\n",
       " 'R;Other(s):',\n",
       " 'Python;Rust',\n",
       " 'Go;Java;Python',\n",
       " 'Go;HTML/CSS;JavaScript;PHP;TypeScript',\n",
       " 'HTML/CSS;JavaScript;PHP;SQL',\n",
       " 'C#;HTML/CSS;JavaScript;SQL',\n",
       " 'C#;HTML/CSS;JavaScript;SQL',\n",
       " 'C;C++;HTML/CSS;Java;JavaScript;PHP;SQL',\n",
       " 'Assembly;Bash/Shell/PowerShell;C;HTML/CSS;JavaScript;Other(s):',\n",
       " 'Java;Kotlin',\n",
       " 'Go',\n",
       " 'Bash/Shell/PowerShell;C;C++;C#;HTML/CSS;Java;JavaScript;PHP;Python;R;SQL',\n",
       " 'HTML/CSS;JavaScript;PHP;Python;SQL',\n",
       " 'Bash/Shell/PowerShell;HTML/CSS;JavaScript;Python;SQL',\n",
       " 'HTML/CSS;Java;JavaScript;Python;Scala;SQL',\n",
       " 'HTML/CSS;Java;JavaScript;Python;TypeScript',\n",
       " 'Bash/Shell/PowerShell;Go;Python',\n",
       " 'Elixir;Go;JavaScript;Ruby;SQL',\n",
       " 'Bash/Shell/PowerShell;C#;Dart;HTML/CSS;JavaScript',\n",
       " 'C++;Python',\n",
       " 'Bash/Shell/PowerShell;C;Python',\n",
       " 'HTML/CSS;Java;Python;SQL',\n",
       " 'HTML/CSS;JavaScript',\n",
       " 'C++;JavaScript;Rust',\n",
       " 'HTML/CSS;JavaScript;Objective-C;PHP;Python',\n",
       " 'C#;HTML/CSS;JavaScript;TypeScript',\n",
       " 'Bash/Shell/PowerShell;HTML/CSS;Java;JavaScript;Python;SQL',\n",
       " 'HTML/CSS;Java;JavaScript;SQL;TypeScript',\n",
       " 'C#;JavaScript;TypeScript',\n",
       " 'C#;HTML/CSS;JavaScript;SQL;TypeScript',\n",
       " 'C++;C#',\n",
       " 'HTML/CSS;Java;JavaScript;Python;SQL',\n",
       " 'Bash/Shell/PowerShell;C#;HTML/CSS;Java;Python;SQL',\n",
       " 'Python;Other(s):',\n",
       " 'Assembly;C;C++;C#;HTML/CSS;JavaScript;Python;VBA',\n",
       " 'HTML/CSS;JavaScript;Rust;Swift;Other(s):',\n",
       " 'Bash/Shell/PowerShell;HTML/CSS;JavaScript;PHP;Ruby;SQL',\n",
       " 'C#;Python;SQL;TypeScript',\n",
       " 'Bash/Shell/PowerShell;C;HTML/CSS;Java;JavaScript;Python;TypeScript;Other(s):',\n",
       " 'C;C++;Java',\n",
       " 'Bash/Shell/PowerShell;Other(s):',\n",
       " 'C;HTML/CSS;Java;JavaScript;PHP;Python',\n",
       " 'C#;HTML/CSS;Java;JavaScript;Python;SQL;TypeScript',\n",
       " 'Bash/Shell/PowerShell;HTML/CSS;Java;JavaScript;PHP;SQL',\n",
       " 'HTML/CSS;JavaScript',\n",
       " 'C++;C#;HTML/CSS;Java;JavaScript;PHP;Python;SQL;TypeScript',\n",
       " 'HTML/CSS;JavaScript;Kotlin;Python',\n",
       " 'HTML/CSS;Java;JavaScript;Python;SQL;Other(s):',\n",
       " 'HTML/CSS;JavaScript',\n",
       " 'HTML/CSS;JavaScript;TypeScript;Other(s):',\n",
       " 'HTML/CSS;JavaScript;Python;Ruby',\n",
       " 'C;Java;PHP;Ruby',\n",
       " 'C#;HTML/CSS;Java;JavaScript;SQL;Swift',\n",
       " 'C++;HTML/CSS;JavaScript',\n",
       " 'C#;JavaScript;SQL',\n",
       " 'HTML/CSS;JavaScript;PHP',\n",
       " 'Bash/Shell/PowerShell;C++;Clojure;Erlang;HTML/CSS;Java;JavaScript;Ruby;Scala',\n",
       " 'Java;JavaScript',\n",
       " 'C#;HTML/CSS;Java;JavaScript;Objective-C;Python;Ruby;Rust;SQL;TypeScript',\n",
       " 'HTML/CSS;Java;JavaScript;Scala;SQL',\n",
       " 'Bash/Shell/PowerShell;C;C++;Python',\n",
       " 'Bash/Shell/PowerShell;C#;HTML/CSS;JavaScript;PHP;Python;SQL',\n",
       " 'HTML/CSS;Java;JavaScript;PHP;Python;SQL',\n",
       " 'C#;HTML/CSS;JavaScript;SQL;TypeScript',\n",
       " 'C#;HTML/CSS;Java;JavaScript;TypeScript',\n",
       " 'Python;SQL;Swift',\n",
       " 'HTML/CSS;JavaScript;TypeScript',\n",
       " 'Assembly;Bash/Shell/PowerShell;C;C++;C#;Java',\n",
       " 'C#;HTML/CSS;JavaScript;PHP;SQL',\n",
       " 'Dart;HTML/CSS;JavaScript;Python;TypeScript;Other(s):',\n",
       " 'Java;Kotlin',\n",
       " 'HTML/CSS;JavaScript;PHP;SQL',\n",
       " 'C++;C#;PHP;Rust;TypeScript',\n",
       " 'HTML/CSS;PHP;Python',\n",
       " 'Go;HTML/CSS;Python;SQL;TypeScript',\n",
       " 'Bash/Shell/PowerShell;C#;HTML/CSS;JavaScript;SQL;TypeScript',\n",
       " 'HTML/CSS;Java;JavaScript;SQL',\n",
       " 'C;C++;C#;HTML/CSS;Java;JavaScript;Kotlin;PHP;Python;Ruby;SQL;TypeScript;WebAssembly',\n",
       " 'HTML/CSS;Java;JavaScript;SQL',\n",
       " 'HTML/CSS;Java;JavaScript;SQL;TypeScript',\n",
       " 'HTML/CSS;JavaScript;PHP;SQL;Other(s):',\n",
       " 'Assembly;C;C++;Java;Python;SQL',\n",
       " 'HTML/CSS;Java;JavaScript;SQL',\n",
       " 'C++;C#;Clojure;JavaScript;PHP;Python;SQL;VBA',\n",
       " 'Bash/Shell/PowerShell;C#;Python;Other(s):',\n",
       " 'JavaScript',\n",
       " 'Bash/Shell/PowerShell;Go;HTML/CSS;JavaScript;Python;Rust;SQL',\n",
       " 'C#;HTML/CSS;JavaScript;SQL',\n",
       " 'C;HTML/CSS;JavaScript;Python;SQL;TypeScript',\n",
       " 'Assembly;Bash/Shell/PowerShell;C;HTML/CSS;Java;PHP;Python;R;SQL',\n",
       " 'Java',\n",
       " 'C#;HTML/CSS;JavaScript;SQL;Swift',\n",
       " 'Assembly;C;C++;C#;HTML/CSS;Java;Python;Scala;SQL',\n",
       " 'Bash/Shell/PowerShell;Python;Ruby;SQL',\n",
       " 'C;C#;HTML/CSS;PHP;Python',\n",
       " 'C;Python',\n",
       " 'C++;HTML/CSS;Java;JavaScript;Python;SQL;Other(s):',\n",
       " 'Bash/Shell/PowerShell;C++;HTML/CSS;Java;JavaScript;Python',\n",
       " 'Java;SQL',\n",
       " 'Bash/Shell/PowerShell;Java',\n",
       " 'Bash/Shell/PowerShell;HTML/CSS;JavaScript;PHP;TypeScript',\n",
       " 'HTML/CSS;Java;JavaScript;Ruby;SQL;TypeScript',\n",
       " 'C#;HTML/CSS;Java;Python',\n",
       " 'Bash/Shell/PowerShell;C#;HTML/CSS;JavaScript;SQL',\n",
       " 'C#;HTML/CSS;JavaScript;SQL;TypeScript',\n",
       " 'Assembly;Bash/Shell/PowerShell;C;C++;C#;HTML/CSS;Java;JavaScript;PHP;Python',\n",
       " 'Bash/Shell/PowerShell;HTML/CSS;Java;JavaScript;PHP;Python;SQL;TypeScript',\n",
       " 'HTML/CSS;Java;JavaScript;PHP;Python;SQL',\n",
       " 'HTML/CSS;Java;JavaScript;TypeScript',\n",
       " 'C;C++;C#;F#;HTML/CSS;JavaScript;Rust;SQL;TypeScript;Other(s):',\n",
       " 'Java;Kotlin',\n",
       " 'Bash/Shell/PowerShell;C++;C#;Python',\n",
       " 'Bash/Shell/PowerShell;HTML/CSS;JavaScript;Objective-C;Python;SQL;Swift;TypeScript',\n",
       " 'Python;Rust;Scala',\n",
       " 'Bash/Shell/PowerShell;C;C++;Python',\n",
       " 'C#;HTML/CSS;Java;JavaScript;Python;SQL;Swift',\n",
       " 'Bash/Shell/PowerShell;JavaScript;Python;Rust;SQL;TypeScript',\n",
       " 'Python;R',\n",
       " 'Bash/Shell/PowerShell;HTML/CSS;Java;Python;SQL',\n",
       " 'C#;HTML/CSS;SQL',\n",
       " 'C++;C#;SQL',\n",
       " 'HTML/CSS;Java;JavaScript;Python;SQL;TypeScript',\n",
       " 'C++',\n",
       " 'Assembly;C#;HTML/CSS;JavaScript;SQL',\n",
       " 'Java;JavaScript',\n",
       " 'Java',\n",
       " 'Java',\n",
       " 'HTML/CSS;PHP',\n",
       " 'C;C++;HTML/CSS;Python',\n",
       " 'C;C++;Elixir;HTML/CSS;Java;Kotlin;PHP;Ruby;SQL;Other(s):',\n",
       " 'Assembly;C;C++;Java;JavaScript;Python;SQL',\n",
       " 'HTML/CSS;JavaScript;Ruby;TypeScript',\n",
       " 'HTML/CSS;JavaScript;TypeScript',\n",
       " 'HTML/CSS;Java;JavaScript;Kotlin;TypeScript',\n",
       " 'Bash/Shell/PowerShell;Go;HTML/CSS;Java;JavaScript;Kotlin;TypeScript',\n",
       " 'HTML/CSS;JavaScript;PHP;Python;SQL',\n",
       " 'HTML/CSS;TypeScript',\n",
       " 'C;C++;C#;HTML/CSS;JavaScript;PHP;SQL;TypeScript',\n",
       " 'Java;JavaScript;Python',\n",
       " 'Bash/Shell/PowerShell;HTML/CSS;JavaScript;Python;TypeScript',\n",
       " 'Elixir;Erlang;F#;Go;HTML/CSS;JavaScript;PHP;SQL',\n",
       " 'HTML/CSS;Java;JavaScript;SQL',\n",
       " 'Bash/Shell/PowerShell;HTML/CSS;JavaScript;PHP;Python;SQL;TypeScript',\n",
       " 'Java;SQL',\n",
       " 'HTML/CSS;PHP;SQL',\n",
       " 'Go;HTML/CSS;JavaScript;PHP;Python;SQL;TypeScript',\n",
       " 'Python',\n",
       " 'R;SQL',\n",
       " 'Bash/Shell/PowerShell;SQL',\n",
       " 'Bash/Shell/PowerShell;C#;HTML/CSS;Java;Python;SQL',\n",
       " 'C#;HTML/CSS;Java;JavaScript;Python',\n",
       " 'HTML/CSS;Python;SQL;TypeScript',\n",
       " 'Bash/Shell/PowerShell;HTML/CSS;Java;JavaScript;Python;SQL',\n",
       " 'C++;Python',\n",
       " 'C#;HTML/CSS;JavaScript;SQL;TypeScript',\n",
       " 'Bash/Shell/PowerShell;C;C#;Java;Python',\n",
       " 'Bash/Shell/PowerShell;JavaScript;Python',\n",
       " 'C#;Go;HTML/CSS;Java;JavaScript;Python;R;SQL',\n",
       " 'C#;HTML/CSS;Java;JavaScript;PHP;Python;SQL',\n",
       " 'Bash/Shell/PowerShell',\n",
       " 'Bash/Shell/PowerShell;Go;SQL;TypeScript',\n",
       " 'HTML/CSS;Java;JavaScript;Python;R;SQL;VBA',\n",
       " 'HTML/CSS;JavaScript;PHP',\n",
       " 'Java;Python',\n",
       " 'C;HTML/CSS;Java;JavaScript;PHP;SQL;TypeScript',\n",
       " 'Bash/Shell/PowerShell;JavaScript;Objective-C;Ruby;Swift',\n",
       " 'Bash/Shell/PowerShell;HTML/CSS;Java;Kotlin;Python;Scala',\n",
       " 'Bash/Shell/PowerShell;C#;HTML/CSS;JavaScript;Python;SQL;TypeScript;VBA',\n",
       " 'Java;Kotlin;PHP;SQL',\n",
       " 'C#;HTML/CSS;TypeScript;Other(s):',\n",
       " 'HTML/CSS;Java;JavaScript;SQL',\n",
       " 'HTML/CSS;JavaScript',\n",
       " 'HTML/CSS;JavaScript;PHP;Ruby;Rust;SQL',\n",
       " 'Bash/Shell/PowerShell;C;C++;HTML/CSS;Java;JavaScript;Python;SQL;VBA',\n",
       " 'C++',\n",
       " 'Bash/Shell/PowerShell;C++;Java;Kotlin;PHP',\n",
       " 'JavaScript;Python;Ruby;SQL;TypeScript',\n",
       " 'C#',\n",
       " 'Bash/Shell/PowerShell;C;C#;F#;HTML/CSS;JavaScript;PHP;Python;SQL',\n",
       " 'C#;SQL;TypeScript',\n",
       " 'Java;JavaScript;TypeScript',\n",
       " 'HTML/CSS;Java;JavaScript;PHP;SQL;TypeScript',\n",
       " 'C;C++;HTML/CSS;Java;JavaScript;Python;SQL',\n",
       " 'C;C++;JavaScript;Python;R;SQL',\n",
       " 'HTML/CSS;JavaScript;PHP;Python;SQL',\n",
       " 'Bash/Shell/PowerShell;HTML/CSS;JavaScript;PHP;SQL;TypeScript',\n",
       " 'Bash/Shell/PowerShell;JavaScript;Python;SQL',\n",
       " 'HTML/CSS;JavaScript;Ruby',\n",
       " 'C;C++;C#;HTML/CSS;JavaScript;SQL;TypeScript',\n",
       " 'HTML/CSS;JavaScript',\n",
       " 'C;C++;C#;HTML/CSS;Java;JavaScript;PHP;Python;R;SQL',\n",
       " 'HTML/CSS;JavaScript;Python',\n",
       " 'Bash/Shell/PowerShell;HTML/CSS;JavaScript;TypeScript',\n",
       " 'Bash/Shell/PowerShell;C;C#;HTML/CSS;JavaScript;Python;Other(s):',\n",
       " 'C++;C#',\n",
       " 'C;C++',\n",
       " 'Bash/Shell/PowerShell;C;HTML/CSS;JavaScript;PHP;SQL;VBA',\n",
       " 'Java',\n",
       " 'C#;HTML/CSS;JavaScript;SQL;TypeScript',\n",
       " 'Bash/Shell/PowerShell;Java;Python',\n",
       " 'C#',\n",
       " 'Assembly;C++;C#;HTML/CSS;Java;JavaScript;Objective-C;PHP;SQL;Other(s):',\n",
       " 'HTML/CSS;Java;JavaScript;SQL;TypeScript;VBA;Other(s):',\n",
       " 'Bash/Shell/PowerShell;C;C++;HTML/CSS;Java;JavaScript;Python',\n",
       " 'Bash/Shell/PowerShell;C#;HTML/CSS;JavaScript;Python;SQL;Swift',\n",
       " 'Bash/Shell/PowerShell;HTML/CSS;Java;JavaScript;PHP;Python;SQL',\n",
       " 'Bash/Shell/PowerShell;C;C++;Go;HTML/CSS;JavaScript;R;SQL',\n",
       " 'Bash/Shell/PowerShell;C#;HTML/CSS;Java;JavaScript;PHP;Python;SQL;TypeScript',\n",
       " 'Bash/Shell/PowerShell;C++;HTML/CSS;Java;PHP;SQL',\n",
       " 'C#;HTML/CSS;Java;JavaScript;PHP',\n",
       " 'HTML/CSS;JavaScript',\n",
       " 'HTML/CSS;JavaScript;TypeScript',\n",
       " 'Bash/Shell/PowerShell;C;C++;HTML/CSS;Python',\n",
       " 'C#;SQL',\n",
       " 'Bash/Shell/PowerShell;HTML/CSS;Java;JavaScript;Python',\n",
       " 'Bash/Shell/PowerShell;Java;Python',\n",
       " 'Bash/Shell/PowerShell;Java;SQL;Other(s):',\n",
       " 'Bash/Shell/PowerShell;C#;HTML/CSS;Java;JavaScript;TypeScript;Other(s):',\n",
       " 'C#;HTML/CSS;JavaScript;TypeScript',\n",
       " 'Bash/Shell/PowerShell;C;C++;C#;Java;Python;Rust',\n",
       " 'SQL;VBA',\n",
       " 'Bash/Shell/PowerShell;Elixir;HTML/CSS;JavaScript;Ruby;SQL;Other(s):',\n",
       " 'C++;Python;Ruby',\n",
       " 'Bash/Shell/PowerShell;JavaScript;Python;SQL',\n",
       " 'HTML/CSS;JavaScript',\n",
       " 'Assembly;C;Python;Rust',\n",
       " 'C#;SQL',\n",
       " 'Bash/Shell/PowerShell;C#;HTML/CSS;JavaScript;PHP;Python',\n",
       " 'HTML/CSS;JavaScript;PHP;SQL',\n",
       " 'HTML/CSS;Java;JavaScript;PHP;SQL;Other(s):',\n",
       " 'C;Python',\n",
       " 'Bash/Shell/PowerShell;C#;HTML/CSS;JavaScript;SQL;TypeScript',\n",
       " 'HTML/CSS;JavaScript;TypeScript',\n",
       " 'Java;Kotlin;Python;SQL',\n",
       " 'Bash/Shell/PowerShell;C#;HTML/CSS;Java;JavaScript;Kotlin;SQL;Other(s):',\n",
       " 'Bash/Shell/PowerShell;JavaScript;PHP;SQL',\n",
       " 'HTML/CSS;Java;JavaScript;PHP;SQL;TypeScript;Other(s):',\n",
       " 'Java;JavaScript',\n",
       " 'HTML/CSS;JavaScript;PHP;Python;SQL',\n",
       " 'C#;JavaScript',\n",
       " 'Java;JavaScript;Other(s):',\n",
       " 'C#;HTML/CSS;JavaScript;PHP;TypeScript',\n",
       " 'HTML/CSS;JavaScript;PHP;Scala',\n",
       " 'Bash/Shell/PowerShell;HTML/CSS;JavaScript;PHP;SQL;TypeScript',\n",
       " 'C++;HTML/CSS;JavaScript;PHP;Python;Ruby;SQL',\n",
       " 'C#;HTML/CSS;JavaScript;SQL;Other(s):',\n",
       " 'C;C++;Dart;Java;Python',\n",
       " 'Bash/Shell/PowerShell;Kotlin',\n",
       " 'Bash/Shell/PowerShell;HTML/CSS;PHP',\n",
       " 'Bash/Shell/PowerShell;C#;HTML/CSS;Java;JavaScript;PHP;Python;SQL',\n",
       " 'HTML/CSS;Java;PHP;Python;SQL',\n",
       " 'Java;JavaScript;Scala',\n",
       " 'Bash/Shell/PowerShell;HTML/CSS;JavaScript;TypeScript',\n",
       " 'Bash/Shell/PowerShell;C++;C#;HTML/CSS;JavaScript;PHP;SQL;TypeScript',\n",
       " 'C;C++;C#;Java',\n",
       " 'C++;Python',\n",
       " 'HTML/CSS;JavaScript;Ruby',\n",
       " 'Java;Objective-C',\n",
       " 'Bash/Shell/PowerShell;Go;HTML/CSS;JavaScript',\n",
       " 'C#;Java;SQL;Other(s):',\n",
       " 'Assembly;C;Erlang;HTML/CSS;Java;JavaScript;Python;SQL',\n",
       " 'R',\n",
       " 'Bash/Shell/PowerShell;Python;SQL',\n",
       " 'Dart;JavaScript;Kotlin;PHP;SQL;Swift;TypeScript',\n",
       " 'C++;HTML/CSS;JavaScript;Python',\n",
       " 'Bash/Shell/PowerShell;HTML/CSS;Java;JavaScript;PHP;Ruby;SQL;VBA',\n",
       " 'C++;C#',\n",
       " 'HTML/CSS',\n",
       " 'C++;C#',\n",
       " 'Bash/Shell/PowerShell;HTML/CSS;JavaScript;PHP;SQL;TypeScript',\n",
       " 'Bash/Shell/PowerShell;Python;SQL',\n",
       " 'C;C++;HTML/CSS;Java;SQL',\n",
       " 'Go;HTML/CSS;Java;JavaScript;PHP;Python;SQL;TypeScript',\n",
       " 'C;C++;HTML/CSS;JavaScript',\n",
       " 'Bash/Shell/PowerShell;HTML/CSS;JavaScript;PHP;Python;SQL',\n",
       " 'Python',\n",
       " 'HTML/CSS;JavaScript;Ruby;SQL;TypeScript',\n",
       " 'Bash/Shell/PowerShell;Python;Other(s):',\n",
       " 'HTML/CSS;JavaScript;Python;Ruby;TypeScript',\n",
       " 'C++;HTML/CSS;Java;JavaScript;PHP;Python;SQL',\n",
       " 'Bash/Shell/PowerShell;C++;Python',\n",
       " 'Assembly;C++;F#;HTML/CSS;PHP;Python;R;Rust;TypeScript;Other(s):',\n",
       " 'C;HTML/CSS;Java;JavaScript;SQL',\n",
       " 'HTML/CSS;PHP',\n",
       " 'HTML/CSS;Java;JavaScript;Python;SQL;TypeScript',\n",
       " 'Bash/Shell/PowerShell;HTML/CSS;JavaScript;Python;R',\n",
       " 'Python;Other(s):',\n",
       " 'C#;SQL;VBA',\n",
       " 'Bash/Shell/PowerShell;C#;HTML/CSS;JavaScript;SQL',\n",
       " 'HTML/CSS;JavaScript;Objective-C;Swift',\n",
       " 'Bash/Shell/PowerShell;Java;JavaScript;Python;SQL',\n",
       " 'Bash/Shell/PowerShell;HTML/CSS;Java;JavaScript;PHP;Python;SQL;TypeScript',\n",
       " 'C#',\n",
       " 'C#;Java;JavaScript;SQL',\n",
       " 'Elixir;VBA',\n",
       " 'C#;HTML/CSS;Java;JavaScript;PHP;Python;SQL',\n",
       " 'C#;HTML/CSS;JavaScript;SQL;TypeScript;Other(s):',\n",
       " 'HTML/CSS;Java;JavaScript;PHP;R;SQL;TypeScript',\n",
       " 'Bash/Shell/PowerShell;JavaScript;Python;SQL',\n",
       " 'JavaScript;Python',\n",
       " 'Bash/Shell/PowerShell;C#;HTML/CSS;Java;JavaScript;Python;R;SQL',\n",
       " 'C;C#;HTML/CSS;Java;JavaScript;Kotlin;PHP;TypeScript',\n",
       " 'Assembly;Bash/Shell/PowerShell;C;C++;Go;HTML/CSS;JavaScript;Objective-C;PHP;Python;SQL',\n",
       " 'Bash/Shell/PowerShell;C++;C#;Go;HTML/CSS;JavaScript;PHP;Python;SQL;TypeScript;Other(s):',\n",
       " 'C;Java;SQL',\n",
       " 'C#;HTML/CSS;JavaScript;SQL',\n",
       " 'Python;SQL;VBA',\n",
       " 'C#;HTML/CSS;JavaScript;SQL',\n",
       " 'HTML/CSS;Java;JavaScript;PHP',\n",
       " 'C#;HTML/CSS;JavaScript;Python;SQL;TypeScript',\n",
       " 'Go;JavaScript;PHP;Ruby;SQL;TypeScript',\n",
       " 'C#;HTML/CSS;JavaScript;SQL',\n",
       " 'C;C++;PHP;Python;SQL;VBA',\n",
       " 'Bash/Shell/PowerShell;C;HTML/CSS;Java;JavaScript;Kotlin;PHP;SQL;TypeScript',\n",
       " 'Bash/Shell/PowerShell;C;C++;C#;HTML/CSS;Java;PHP;Python;SQL;VBA',\n",
       " 'HTML/CSS;Java;JavaScript;Python;Ruby;SQL',\n",
       " 'C#;JavaScript;SQL',\n",
       " 'Assembly;Bash/Shell/PowerShell;C;C++;Python;SQL',\n",
       " 'Bash/Shell/PowerShell;HTML/CSS;JavaScript;PHP;SQL',\n",
       " 'Bash/Shell/PowerShell;C#;HTML/CSS;JavaScript',\n",
       " 'Bash/Shell/PowerShell;C;Java;JavaScript;Objective-C;Rust;Swift;Other(s):',\n",
       " 'C++;C#;Clojure;HTML/CSS;JavaScript;Python;SQL',\n",
       " 'Bash/Shell/PowerShell;HTML/CSS;JavaScript;Python',\n",
       " 'Assembly;Bash/Shell/PowerShell;C;C++;Erlang;R;Rust;Scala',\n",
       " 'Assembly;C;C++;Java;JavaScript;Kotlin;PHP;Python;Rust;SQL;TypeScript',\n",
       " 'Assembly;Bash/Shell/PowerShell;C;HTML/CSS;PHP;Python;SQL',\n",
       " 'Bash/Shell/PowerShell;HTML/CSS;JavaScript;PHP;Python;Ruby',\n",
       " 'Bash/Shell/PowerShell;Go;Python;SQL',\n",
       " 'C#;HTML/CSS;JavaScript;Ruby;SQL;TypeScript',\n",
       " 'Bash/Shell/PowerShell;Python;Other(s):',\n",
       " 'Bash/Shell/PowerShell;HTML/CSS;Java;JavaScript;SQL;Swift',\n",
       " 'Bash/Shell/PowerShell;C++;C#;HTML/CSS;Java;JavaScript;Python',\n",
       " 'Bash/Shell/PowerShell;HTML/CSS;Java;JavaScript;Python;Scala;SQL',\n",
       " 'Bash/Shell/PowerShell;HTML/CSS;JavaScript;PHP;TypeScript',\n",
       " 'C;C++;C#;HTML/CSS;Java;JavaScript;PHP;Python;SQL',\n",
       " 'Java;Ruby;Scala;SQL;Other(s):',\n",
       " 'Java;Python',\n",
       " 'C#;Java;Python;R;VBA',\n",
       " 'Java;Python;Ruby',\n",
       " 'Bash/Shell/PowerShell;C#;Java;Other(s):',\n",
       " 'C#',\n",
       " 'C#;HTML/CSS;JavaScript;SQL;VBA',\n",
       " 'C#;SQL',\n",
       " 'C#;JavaScript',\n",
       " 'C;C++;HTML/CSS;PHP;Python;SQL',\n",
       " 'HTML/CSS;Java;JavaScript;Kotlin;PHP',\n",
       " 'C#;HTML/CSS;JavaScript;SQL;TypeScript',\n",
       " 'Bash/Shell/PowerShell;C;C++;HTML/CSS;Java;JavaScript;Python;SQL;TypeScript',\n",
       " 'Java;JavaScript;PHP;Python;SQL',\n",
       " 'Assembly;Bash/Shell/PowerShell;C;C++;C#;HTML/CSS;JavaScript;PHP;Python;SQL',\n",
       " 'Bash/Shell/PowerShell;HTML/CSS;JavaScript;PHP;Ruby;SQL',\n",
       " 'Bash/Shell/PowerShell;HTML/CSS;Java;PHP;Python;SQL',\n",
       " 'HTML/CSS;PHP;SQL',\n",
       " 'C++;C#;HTML/CSS;Java;JavaScript;PHP;Python;SQL;Swift;TypeScript',\n",
       " 'Bash/Shell/PowerShell;HTML/CSS;Java;JavaScript',\n",
       " 'Bash/Shell/PowerShell;C#;HTML/CSS;JavaScript;PHP;SQL;TypeScript',\n",
       " 'Java;Kotlin',\n",
       " 'Bash/Shell/PowerShell;Clojure;HTML/CSS;Java;JavaScript;PHP;Python;Ruby;TypeScript',\n",
       " 'C#;JavaScript;SQL',\n",
       " 'HTML/CSS;JavaScript;Python',\n",
       " 'Bash/Shell/PowerShell;HTML/CSS;JavaScript;PHP;SQL',\n",
       " 'Python;Other(s):',\n",
       " 'Assembly;Bash/Shell/PowerShell;C;C++;C#;F#;HTML/CSS;JavaScript;Python;TypeScript',\n",
       " 'Bash/Shell/PowerShell;C;C++;C#;HTML/CSS;Java;Python;SQL;TypeScript',\n",
       " 'C#;HTML/CSS;JavaScript;Python;SQL;TypeScript;VBA',\n",
       " 'Ruby;SQL',\n",
       " 'C;C++;C#;Java;PHP;SQL',\n",
       " 'Assembly;Bash/Shell/PowerShell;C;C++;C#;HTML/CSS;Java;JavaScript;PHP;SQL',\n",
       " 'HTML/CSS;Java;JavaScript;SQL;TypeScript;WebAssembly',\n",
       " 'Bash/Shell/PowerShell;SQL;Other(s):',\n",
       " 'Java;Objective-C;SQL;Swift',\n",
       " 'Objective-C;Swift',\n",
       " 'C++;HTML/CSS;JavaScript;PHP;Python',\n",
       " 'Bash/Shell/PowerShell;HTML/CSS;JavaScript;Ruby;TypeScript',\n",
       " 'HTML/CSS;Java;JavaScript;SQL',\n",
       " 'Assembly;Bash/Shell/PowerShell;C++;C#;Go;HTML/CSS;JavaScript;Objective-C;PHP;Python;Ruby;SQL;Swift',\n",
       " 'Bash/Shell/PowerShell;JavaScript;SQL;TypeScript',\n",
       " 'C#;HTML/CSS;JavaScript;SQL;TypeScript',\n",
       " 'Bash/Shell/PowerShell;Go;HTML/CSS;JavaScript;Python;SQL',\n",
       " 'C#;HTML/CSS;JavaScript;SQL',\n",
       " 'C;C++;Python;Rust',\n",
       " 'C;C++;C#;HTML/CSS;Java;JavaScript;Objective-C;Scala;SQL;Swift;TypeScript',\n",
       " 'Bash/Shell/PowerShell;JavaScript;Python',\n",
       " 'C++;C#;HTML/CSS;Java;JavaScript;SQL',\n",
       " 'Bash/Shell/PowerShell;C#;HTML/CSS;JavaScript;Rust',\n",
       " 'HTML/CSS;JavaScript;Kotlin;SQL;Swift',\n",
       " 'HTML/CSS;JavaScript;SQL',\n",
       " 'C#;HTML/CSS;Java;JavaScript;Kotlin;PHP;SQL;Swift',\n",
       " 'Bash/Shell/PowerShell;C++;HTML/CSS;JavaScript;TypeScript',\n",
       " 'Bash/Shell/PowerShell;HTML/CSS;Java;JavaScript;PHP;Ruby;SQL',\n",
       " 'C++;C#;HTML/CSS;SQL',\n",
       " 'Assembly;Bash/Shell/PowerShell;C;C++;C#;HTML/CSS;Rust;SQL;TypeScript',\n",
       " 'C#;HTML/CSS;JavaScript;SQL;VBA',\n",
       " 'Java;JavaScript;Python;SQL',\n",
       " 'Bash/Shell/PowerShell;C++;JavaScript;Python',\n",
       " 'Python',\n",
       " 'HTML/CSS;Java',\n",
       " 'C#;HTML/CSS;JavaScript;Kotlin;Objective-C;PHP;SQL;Swift',\n",
       " 'Clojure;HTML/CSS;Java;JavaScript',\n",
       " 'Assembly;C++;C#;Java;Scala;Other(s):',\n",
       " 'C++;Python;R;Other(s):',\n",
       " 'C++;HTML/CSS;Java;JavaScript;TypeScript',\n",
       " 'Python',\n",
       " 'HTML/CSS;Java;JavaScript;Python;SQL;TypeScript',\n",
       " 'Bash/Shell/PowerShell;HTML/CSS;JavaScript;PHP;Python;SQL',\n",
       " 'Python;SQL;VBA',\n",
       " 'HTML/CSS;JavaScript;Python;SQL',\n",
       " 'HTML/CSS;Java;JavaScript;PHP',\n",
       " 'Ruby;SQL',\n",
       " 'Bash/Shell/PowerShell;HTML/CSS;JavaScript;Python;SQL',\n",
       " 'Bash/Shell/PowerShell;HTML/CSS;JavaScript;Python;SQL',\n",
       " 'Bash/Shell/PowerShell;C;Python;Rust;SQL',\n",
       " 'C#;HTML/CSS;JavaScript;SQL;Swift',\n",
       " 'Bash/Shell/PowerShell;HTML/CSS;Java;JavaScript;Kotlin;PHP;Python',\n",
       " 'C;C++;HTML/CSS;Java;JavaScript;PHP;SQL',\n",
       " 'C#;HTML/CSS;JavaScript;Python',\n",
       " 'C#;HTML/CSS;Java;JavaScript;SQL;VBA;Other(s):',\n",
       " 'Bash/Shell/PowerShell;Objective-C;Ruby;Swift',\n",
       " 'Other(s):',\n",
       " 'Java;JavaScript;Scala;SQL',\n",
       " 'C#;HTML/CSS;Python;SQL',\n",
       " 'C#;HTML/CSS;JavaScript;SQL',\n",
       " 'Bash/Shell/PowerShell;C;C++;C#;F#;HTML/CSS;Java;JavaScript;Python;R;Ruby;Scala;SQL',\n",
       " 'HTML/CSS;Objective-C;Swift',\n",
       " 'HTML/CSS;JavaScript;PHP;Python;SQL',\n",
       " 'C#;HTML/CSS;JavaScript;TypeScript',\n",
       " 'C#;HTML/CSS;Java;SQL',\n",
       " 'C#;SQL',\n",
       " 'C;C++;Java;Python;SQL;Other(s):',\n",
       " 'HTML/CSS;JavaScript;PHP;Python;SQL',\n",
       " 'C++;C#;HTML/CSS;Java;JavaScript;Other(s):',\n",
       " 'Assembly',\n",
       " 'HTML/CSS;JavaScript;PHP;SQL',\n",
       " 'HTML/CSS;Java;JavaScript;SQL',\n",
       " 'Bash/Shell/PowerShell;HTML/CSS;JavaScript;PHP;Python;SQL',\n",
       " 'C#;HTML/CSS;JavaScript;TypeScript',\n",
       " 'C#;SQL',\n",
       " 'Bash/Shell/PowerShell;HTML/CSS;JavaScript;Python',\n",
       " 'HTML/CSS;Java;JavaScript;Python',\n",
       " 'Bash/Shell/PowerShell;C;C++;C#;HTML/CSS;JavaScript;SQL',\n",
       " 'HTML/CSS;JavaScript;Python;SQL;TypeScript',\n",
       " 'Bash/Shell/PowerShell;C;C++;HTML/CSS;Java;JavaScript;Rust;SQL',\n",
       " 'C;C++;HTML/CSS;JavaScript;PHP;Python;SQL',\n",
       " 'Bash/Shell/PowerShell;C#;HTML/CSS;JavaScript;SQL',\n",
       " 'Dart;HTML/CSS;Java;PHP;SQL',\n",
       " 'Go;JavaScript',\n",
       " 'C#;HTML/CSS;JavaScript;Objective-C;PHP;Ruby;SQL',\n",
       " 'Bash/Shell/PowerShell;C++;Go;JavaScript;Python;SQL',\n",
       " 'JavaScript;TypeScript',\n",
       " 'Java',\n",
       " 'HTML/CSS;JavaScript',\n",
       " 'HTML/CSS;JavaScript;PHP;SQL',\n",
       " 'Bash/Shell/PowerShell;HTML/CSS;JavaScript;PHP;SQL;VBA',\n",
       " 'HTML/CSS;JavaScript;PHP;SQL',\n",
       " 'HTML/CSS;JavaScript;PHP;Other(s):',\n",
       " 'C#;HTML/CSS;Java;PHP;SQL',\n",
       " 'Bash/Shell/PowerShell;C++;C#;HTML/CSS;Java;JavaScript;Objective-C;PHP;Python;SQL;Swift',\n",
       " 'C#;HTML/CSS;JavaScript;PHP;SQL;TypeScript',\n",
       " 'Bash/Shell/PowerShell;Go;SQL;TypeScript',\n",
       " 'JavaScript;Python;R;Other(s):',\n",
       " 'Bash/Shell/PowerShell;C;C++;C#;HTML/CSS;Java;JavaScript;Python',\n",
       " 'C#;HTML/CSS;JavaScript;SQL',\n",
       " 'HTML/CSS;JavaScript;PHP;SQL;TypeScript',\n",
       " 'Bash/Shell/PowerShell;C;C++;HTML/CSS;JavaScript;Python;SQL',\n",
       " 'Python',\n",
       " 'Bash/Shell/PowerShell;Go;HTML/CSS;JavaScript;Python;SQL',\n",
       " 'C;HTML/CSS;JavaScript;PHP;SQL',\n",
       " 'C;C++;HTML/CSS;JavaScript;PHP;SQL',\n",
       " 'Bash/Shell/PowerShell;C#;F#;HTML/CSS;JavaScript;SQL;TypeScript',\n",
       " 'C#;HTML/CSS;JavaScript;SQL',\n",
       " 'C#;SQL',\n",
       " 'Bash/Shell/PowerShell;Java;JavaScript;Kotlin;Python',\n",
       " 'C#;HTML/CSS;Java;JavaScript;Objective-C;SQL;TypeScript',\n",
       " 'C;C++;Python',\n",
       " 'Bash/Shell/PowerShell;C;C++;HTML/CSS;Java;Python;R;SQL',\n",
       " 'Bash/Shell/PowerShell;Java;JavaScript;Swift',\n",
       " 'Bash/Shell/PowerShell;Java;PHP;Python',\n",
       " 'C++;C#;HTML/CSS;Java;JavaScript;PHP;Python;SQL;TypeScript',\n",
       " 'Go;JavaScript;Python;SQL;TypeScript',\n",
       " 'HTML/CSS;JavaScript;PHP;Ruby',\n",
       " 'C;C++;C#;HTML/CSS;JavaScript;Kotlin;Swift',\n",
       " 'Bash/Shell/PowerShell;HTML/CSS;Java;JavaScript;Kotlin;PHP;SQL;TypeScript',\n",
       " 'Go;HTML/CSS;Python',\n",
       " 'Bash/Shell/PowerShell;C#;HTML/CSS;Java;JavaScript;Python;R;Ruby;SQL;TypeScript',\n",
       " 'Java;JavaScript',\n",
       " 'C#;HTML/CSS;JavaScript;SQL',\n",
       " 'Dart;HTML/CSS;Java;Kotlin;Python',\n",
       " 'HTML/CSS;JavaScript;PHP;Python;SQL',\n",
       " 'C#',\n",
       " 'C#;HTML/CSS;JavaScript;TypeScript',\n",
       " 'Bash/Shell/PowerShell;HTML/CSS;JavaScript;PHP;Other(s):',\n",
       " 'Bash/Shell/PowerShell;C++;HTML/CSS;Java;JavaScript;Python;SQL',\n",
       " 'Bash/Shell/PowerShell;C;C++;HTML/CSS;Java;JavaScript;Kotlin;PHP;Python;SQL;Other(s):',\n",
       " 'C;SQL',\n",
       " 'Java;Python',\n",
       " 'Bash/Shell/PowerShell;Java;Python;Scala',\n",
       " 'C#;JavaScript;SQL;TypeScript',\n",
       " 'C#;HTML/CSS;Java;JavaScript;PHP;Python;SQL;TypeScript;VBA',\n",
       " 'C#;HTML/CSS;JavaScript;SQL',\n",
       " 'Python;Rust;TypeScript',\n",
       " 'C#;HTML/CSS;JavaScript;SQL',\n",
       " 'HTML/CSS;JavaScript;PHP',\n",
       " 'HTML/CSS;JavaScript;PHP;SQL',\n",
       " 'Bash/Shell/PowerShell;C++;Dart;Go;HTML/CSS;Java;JavaScript;PHP;Python;R;Ruby;SQL;TypeScript',\n",
       " 'Go;HTML/CSS;JavaScript;Python;Ruby;SQL',\n",
       " 'Bash/Shell/PowerShell;Go;Java;SQL',\n",
       " 'C;C++;C#;TypeScript',\n",
       " 'Ruby;Scala;SQL;Other(s):',\n",
       " 'Java',\n",
       " 'HTML/CSS;JavaScript;Python;SQL',\n",
       " 'Assembly;C++;Java;JavaScript;VBA',\n",
       " 'C;Python;SQL',\n",
       " 'HTML/CSS;JavaScript;TypeScript',\n",
       " 'HTML/CSS;JavaScript;SQL;VBA',\n",
       " 'Assembly;Bash/Shell/PowerShell;C++;HTML/CSS;JavaScript;Python',\n",
       " 'HTML/CSS;JavaScript;PHP;SQL',\n",
       " 'Java;JavaScript;Ruby',\n",
       " 'C#;SQL;TypeScript',\n",
       " 'C++;HTML/CSS;JavaScript;Python;TypeScript;WebAssembly',\n",
       " 'Bash/Shell/PowerShell;HTML/CSS;JavaScript;PHP',\n",
       " 'C;C#;Dart;JavaScript;PHP;Python;Rust;SQL;TypeScript',\n",
       " 'Bash/Shell/PowerShell;C;HTML/CSS;JavaScript;Python;R;Ruby;Other(s):',\n",
       " 'C#;HTML/CSS;JavaScript;Python;R;SQL',\n",
       " 'C#;HTML/CSS;JavaScript;SQL',\n",
       " 'HTML/CSS;JavaScript',\n",
       " 'Java',\n",
       " 'C;C++;Python',\n",
       " 'JavaScript;PHP;SQL',\n",
       " 'HTML/CSS;Java;JavaScript;SQL',\n",
       " 'Bash/Shell/PowerShell;C#;HTML/CSS;JavaScript;PHP;SQL',\n",
       " 'Assembly;Bash/Shell/PowerShell;C;C++;Java;JavaScript;Python;SQL',\n",
       " 'Bash/Shell/PowerShell;HTML/CSS;JavaScript;PHP',\n",
       " 'Java;JavaScript',\n",
       " 'Python;SQL',\n",
       " 'Bash/Shell/PowerShell;C;C++;C#;JavaScript',\n",
       " 'HTML/CSS;Java',\n",
       " 'Bash/Shell/PowerShell;C#;JavaScript;SQL;Other(s):',\n",
       " 'HTML/CSS;Objective-C',\n",
       " 'HTML/CSS;JavaScript;PHP;SQL;Swift',\n",
       " 'Assembly;Bash/Shell/PowerShell;C;C++;C#;Erlang;Go;HTML/CSS;Java;JavaScript;Python;Ruby;Rust;SQL',\n",
       " 'Bash/Shell/PowerShell;C;C++;HTML/CSS;Java;JavaScript;Kotlin;Python;SQL;TypeScript',\n",
       " 'Assembly;C;C++;C#;HTML/CSS;Python;TypeScript;Other(s):',\n",
       " 'Assembly;C++;HTML/CSS;JavaScript;Python',\n",
       " 'C#',\n",
       " 'Bash/Shell/PowerShell;HTML/CSS;JavaScript;PHP;Python;SQL',\n",
       " 'Python',\n",
       " 'Bash/Shell/PowerShell;C++;Go;JavaScript;Python;Ruby;SQL;TypeScript;Other(s):',\n",
       " 'Java;Python;R',\n",
       " 'C;HTML/CSS;Java;JavaScript;PHP;SQL',\n",
       " 'Bash/Shell/PowerShell;C#;SQL',\n",
       " 'Java;JavaScript',\n",
       " 'C#;HTML/CSS;Java;JavaScript;PHP;Scala',\n",
       " 'C;C++;JavaScript',\n",
       " 'C;C#;Java;Kotlin;PHP;Python;SQL',\n",
       " 'Other(s):',\n",
       " 'Bash/Shell/PowerShell;Java;Python;Ruby;SQL',\n",
       " 'Bash/Shell/PowerShell;HTML/CSS;Java;JavaScript;TypeScript',\n",
       " 'Java;PHP',\n",
       " 'Java;Python',\n",
       " 'C',\n",
       " 'Go;HTML/CSS;JavaScript;Ruby;SQL;TypeScript',\n",
       " 'Bash/Shell/PowerShell;Go;HTML/CSS;Java;JavaScript;Python',\n",
       " 'Bash/Shell/PowerShell;C#;HTML/CSS;JavaScript;PHP;SQL',\n",
       " 'HTML/CSS;Java;JavaScript;Ruby',\n",
       " 'Bash/Shell/PowerShell;C#;HTML/CSS;JavaScript',\n",
       " 'Bash/Shell/PowerShell;C++;HTML/CSS;JavaScript;Python',\n",
       " 'C;Java;Python;SQL',\n",
       " 'HTML/CSS;JavaScript;PHP;SQL',\n",
       " 'Bash/Shell/PowerShell;C;HTML/CSS;JavaScript',\n",
       " 'Bash/Shell/PowerShell;Java;JavaScript;Python;TypeScript',\n",
       " 'Python;R;Other(s):',\n",
       " 'Java;Python;SQL',\n",
       " 'HTML/CSS;JavaScript;TypeScript',\n",
       " 'C#;HTML/CSS;Java;JavaScript;Python;R',\n",
       " 'HTML/CSS;JavaScript;PHP;SQL',\n",
       " 'C#;Java;SQL',\n",
       " 'C#;Java;JavaScript;Python',\n",
       " 'C;HTML/CSS;Java;JavaScript;Python;SQL',\n",
       " 'C#;F#;HTML/CSS;Java;JavaScript;PHP;SQL;VBA',\n",
       " 'Bash/Shell/PowerShell;C#;HTML/CSS;JavaScript;Swift',\n",
       " 'C#;HTML/CSS;JavaScript;Python;SQL',\n",
       " 'Bash/Shell/PowerShell;C++;C#',\n",
       " 'HTML/CSS;PHP;VBA',\n",
       " 'Bash/Shell/PowerShell;Dart;Go;HTML/CSS;Java;JavaScript;Python;TypeScript',\n",
       " 'C#;Java;JavaScript;TypeScript',\n",
       " 'C#;HTML/CSS;JavaScript',\n",
       " 'Assembly;Bash/Shell/PowerShell;HTML/CSS;Java;JavaScript;PHP;Python;TypeScript',\n",
       " 'Java;JavaScript;Kotlin',\n",
       " 'Python;SQL',\n",
       " 'Assembly;Bash/Shell/PowerShell;C;C++;HTML/CSS;Java;JavaScript;PHP;Python;Ruby;SQL',\n",
       " 'Bash/Shell/PowerShell;C;HTML/CSS;JavaScript;Python;Ruby;SQL;TypeScript',\n",
       " 'C++;C#',\n",
       " 'Bash/Shell/PowerShell;Go;JavaScript;Python;Rust;SQL',\n",
       " 'Dart;HTML/CSS;JavaScript;Kotlin;Rust',\n",
       " 'Java;SQL;Other(s):',\n",
       " 'Bash/Shell/PowerShell;C#;HTML/CSS;Java;JavaScript;SQL;Other(s):',\n",
       " 'HTML/CSS;JavaScript;Python;TypeScript',\n",
       " 'C;C++',\n",
       " 'Bash/Shell/PowerShell;HTML/CSS;JavaScript;PHP;Python;SQL',\n",
       " 'C;HTML/CSS;JavaScript;Python;SQL;TypeScript',\n",
       " 'C++;HTML/CSS;JavaScript;Rust;SQL;TypeScript;Other(s):',\n",
       " 'Bash/Shell/PowerShell;Objective-C;Ruby;Swift',\n",
       " 'C;Go;JavaScript;SQL;TypeScript',\n",
       " 'Java;JavaScript;PHP;Python',\n",
       " 'C++;Java;SQL;Swift',\n",
       " 'C#;HTML/CSS;JavaScript;SQL',\n",
       " 'HTML/CSS;Java;PHP;SQL',\n",
       " 'C#;Clojure;JavaScript;PHP;Python;R;SQL',\n",
       " 'C#;Java;JavaScript;SQL',\n",
       " 'Bash/Shell/PowerShell;C;C#;HTML/CSS;JavaScript;PHP;Python',\n",
       " 'Bash/Shell/PowerShell;Java;SQL',\n",
       " 'Java',\n",
       " 'C#;Clojure;JavaScript;TypeScript',\n",
       " 'Go;HTML/CSS;JavaScript;Python;SQL;TypeScript',\n",
       " 'C#;HTML/CSS;Java;JavaScript;SQL',\n",
       " 'Bash/Shell/PowerShell;C;C++;Python',\n",
       " 'Bash/Shell/PowerShell;C;C++;C#;HTML/CSS;Java;JavaScript;PHP;Python',\n",
       " 'Bash/Shell/PowerShell;C++;C#;HTML/CSS;JavaScript;Python',\n",
       " 'Bash/Shell/PowerShell;C#;HTML/CSS;JavaScript;Python;SQL',\n",
       " 'C;C++;C#;HTML/CSS',\n",
       " 'Assembly;Bash/Shell/PowerShell;C;C++;HTML/CSS;Java;JavaScript;PHP;Python;SQL;TypeScript',\n",
       " 'Bash/Shell/PowerShell;C++;R;Other(s):',\n",
       " 'HTML/CSS;Java;JavaScript;Objective-C;SQL;Swift',\n",
       " 'Bash/Shell/PowerShell;Python;R;Other(s):',\n",
       " 'Dart;Java;JavaScript;Kotlin;Swift',\n",
       " 'C++;C#;HTML/CSS;JavaScript;SQL;TypeScript',\n",
       " 'Elixir;HTML/CSS;JavaScript;Python;Ruby;SQL',\n",
       " 'C#;Java;SQL',\n",
       " 'HTML/CSS;JavaScript',\n",
       " 'Bash/Shell/PowerShell;Go;HTML/CSS;Java;JavaScript;PHP',\n",
       " 'C#;HTML/CSS;JavaScript;SQL',\n",
       " 'C#',\n",
       " 'Bash/Shell/PowerShell;C++;C#;HTML/CSS;JavaScript;PHP;Python;SQL;TypeScript',\n",
       " 'HTML/CSS;JavaScript;PHP;SQL;TypeScript',\n",
       " 'Bash/Shell/PowerShell;C++;C#;HTML/CSS;Java;JavaScript;Objective-C;PHP;SQL;VBA',\n",
       " 'Bash/Shell/PowerShell;C#;Java;JavaScript;Python;SQL',\n",
       " 'C#',\n",
       " 'C++;HTML/CSS;JavaScript;R;Ruby;SQL',\n",
       " 'Bash/Shell/PowerShell;Java;JavaScript;Python;R;Ruby',\n",
       " 'C#',\n",
       " 'C;C++',\n",
       " 'HTML/CSS;Java;Python;Rust;SQL',\n",
       " 'C#;HTML/CSS;JavaScript;PHP;Python;SQL',\n",
       " 'Assembly;Bash/Shell/PowerShell;C;C++;C#;Python;Ruby',\n",
       " 'C#;HTML/CSS;JavaScript;Objective-C;Python;Swift',\n",
       " 'Bash/Shell/PowerShell;C++;HTML/CSS;Java;Ruby;SQL;TypeScript',\n",
       " 'Bash/Shell/PowerShell;C;C++;JavaScript',\n",
       " 'Bash/Shell/PowerShell;HTML/CSS;PHP',\n",
       " 'Bash/Shell/PowerShell;C;C++;Python;R;SQL;Other(s):',\n",
       " 'JavaScript;PHP;SQL',\n",
       " 'Bash/Shell/PowerShell;C#;HTML/CSS;JavaScript;SQL;TypeScript',\n",
       " 'Python;Other(s):',\n",
       " 'Dart;Java;Swift',\n",
       " 'Bash/Shell/PowerShell;C++;C#;HTML/CSS;Java;JavaScript;PHP;Python;SQL;TypeScript',\n",
       " 'C#;SQL;Other(s):',\n",
       " 'HTML/CSS;Java;PHP;SQL',\n",
       " 'C;C++;C#;Python',\n",
       " 'Bash/Shell/PowerShell;Java;Kotlin;Python;SQL;Other(s):',\n",
       " 'Bash/Shell/PowerShell;HTML/CSS;JavaScript;PHP;Python;Ruby;SQL;Swift',\n",
       " 'C;C++;HTML/CSS;Objective-C;Swift',\n",
       " 'Bash/Shell/PowerShell;HTML/CSS;JavaScript;Python;R;SQL',\n",
       " 'HTML/CSS;JavaScript;TypeScript',\n",
       " 'Bash/Shell/PowerShell;C#;HTML/CSS;Java;JavaScript;PHP;Python;Rust;SQL',\n",
       " 'C#;HTML/CSS;JavaScript;PHP;SQL;TypeScript',\n",
       " 'C++;HTML/CSS;Python;R;SQL',\n",
       " 'C#;HTML/CSS;JavaScript;SQL',\n",
       " 'Bash/Shell/PowerShell;HTML/CSS;JavaScript;SQL',\n",
       " 'JavaScript;Ruby',\n",
       " 'C;Python',\n",
       " 'HTML/CSS;Java;JavaScript',\n",
       " 'HTML/CSS;JavaScript;PHP;SQL',\n",
       " 'C#;HTML/CSS;Java;JavaScript;SQL',\n",
       " 'Bash/Shell/PowerShell;C#;HTML/CSS;JavaScript;Kotlin;SQL',\n",
       " 'Bash/Shell/PowerShell;C#;HTML/CSS;JavaScript;SQL;TypeScript;Other(s):',\n",
       " 'Assembly;HTML/CSS;Java;JavaScript;SQL',\n",
       " 'JavaScript;Python',\n",
       " 'HTML/CSS;JavaScript',\n",
       " 'Assembly;C;C++;HTML/CSS;Java;JavaScript;PHP;Python',\n",
       " 'Python;R',\n",
       " 'C;HTML/CSS;Java;Python;R;TypeScript;Other(s):',\n",
       " 'Bash/Shell/PowerShell;C;C++;C#;HTML/CSS;Java;JavaScript;Kotlin;Objective-C;PHP;Python;Ruby;SQL;Swift',\n",
       " 'Bash/Shell/PowerShell;HTML/CSS;JavaScript;TypeScript;WebAssembly',\n",
       " 'Bash/Shell/PowerShell;C;Go;Python;SQL',\n",
       " 'Java',\n",
       " 'C#;HTML/CSS;Java;JavaScript;Python;SQL',\n",
       " 'Bash/Shell/PowerShell;Go;Ruby',\n",
       " 'Bash/Shell/PowerShell;C;Scala;SQL',\n",
       " 'HTML/CSS;Java;JavaScript;R;SQL',\n",
       " 'C;HTML/CSS;Java;JavaScript;Kotlin;PHP;Python;Swift',\n",
       " 'C++;HTML/CSS;Java;JavaScript;Python;SQL;Other(s):',\n",
       " 'Java',\n",
       " 'C#;HTML/CSS;Java;JavaScript;PHP;SQL;TypeScript',\n",
       " 'Java;JavaScript;TypeScript',\n",
       " 'Bash/Shell/PowerShell;C;C++;C#;Java;SQL',\n",
       " 'Bash/Shell/PowerShell;HTML/CSS;Other(s):',\n",
       " 'C#;HTML/CSS;JavaScript;SQL;TypeScript',\n",
       " 'C#;JavaScript;Python;TypeScript',\n",
       " 'C#;HTML/CSS;Java;JavaScript;PHP;SQL',\n",
       " 'C++;Go;Other(s):',\n",
       " 'C#;HTML/CSS;JavaScript;SQL',\n",
       " 'Assembly;C;C++;HTML/CSS;Java;JavaScript;Kotlin;PHP;Python;SQL',\n",
       " 'JavaScript;Ruby;SQL',\n",
       " 'Bash/Shell/PowerShell;C;C++;HTML/CSS;Python',\n",
       " 'Python;SQL',\n",
       " 'HTML/CSS;JavaScript;PHP;Python;SQL;VBA',\n",
       " 'Bash/Shell/PowerShell;C;C++;HTML/CSS;Java;JavaScript;Python;SQL;Swift',\n",
       " 'Assembly;Bash/Shell/PowerShell;C;C++;C#;Go;HTML/CSS;Java;JavaScript;PHP;Python;R;Ruby;Rust;SQL;VBA',\n",
       " 'Assembly;Bash/Shell/PowerShell;C;HTML/CSS;Java;JavaScript;Kotlin;Python;Other(s):',\n",
       " 'Bash/Shell/PowerShell;Python;SQL',\n",
       " 'Bash/Shell/PowerShell;HTML/CSS;Java;JavaScript;Python;Swift',\n",
       " 'HTML/CSS;Java;JavaScript;Python;SQL',\n",
       " 'Bash/Shell/PowerShell;HTML/CSS;JavaScript;PHP;Python;R;SQL',\n",
       " 'Bash/Shell/PowerShell;HTML/CSS;JavaScript;Python;SQL',\n",
       " 'C;C++;HTML/CSS;Java;JavaScript;Python;SQL',\n",
       " 'C++;C#;HTML/CSS;Java;JavaScript;PHP;SQL',\n",
       " 'Objective-C;Swift',\n",
       " 'Bash/Shell/PowerShell;Go;HTML/CSS;JavaScript;Python',\n",
       " 'Python',\n",
       " 'Clojure;Go;Python',\n",
       " 'Dart;Java;Kotlin;Python;Scala;Swift',\n",
       " 'C#;HTML/CSS;SQL',\n",
       " 'Bash/Shell/PowerShell;C++;HTML/CSS;Swift',\n",
       " 'Bash/Shell/PowerShell;Go;HTML/CSS;Java;JavaScript;PHP;Python;SQL',\n",
       " 'Bash/Shell/PowerShell;Go;HTML/CSS;JavaScript;PHP;Python;SQL',\n",
       " 'HTML/CSS;JavaScript;PHP;Python;TypeScript',\n",
       " 'C#',\n",
       " 'Go;JavaScript',\n",
       " 'Bash/Shell/PowerShell;C;HTML/CSS;Java;JavaScript;Python',\n",
       " 'Java;JavaScript;PHP;SQL;TypeScript',\n",
       " 'HTML/CSS;Java;JavaScript;Kotlin;PHP;Python;SQL',\n",
       " 'Bash/Shell/PowerShell;C++;HTML/CSS;JavaScript;Python;SQL',\n",
       " 'Bash/Shell/PowerShell;C#;HTML/CSS;SQL;TypeScript',\n",
       " 'C#;HTML/CSS;Java;JavaScript;Ruby;SQL;TypeScript',\n",
       " 'C++;C#;JavaScript;Objective-C;Rust',\n",
       " 'Bash/Shell/PowerShell;Java;JavaScript;Python',\n",
       " 'C;C++;HTML/CSS;Java;JavaScript;Python;SQL',\n",
       " 'Bash/Shell/PowerShell;HTML/CSS;JavaScript;PHP;SQL',\n",
       " 'C#;HTML/CSS;JavaScript;SQL;TypeScript',\n",
       " 'Bash/Shell/PowerShell;C#;HTML/CSS;JavaScript',\n",
       " 'Java;Kotlin;Swift',\n",
       " 'C#;HTML/CSS;JavaScript;SQL',\n",
       " 'Python;Ruby;SQL',\n",
       " 'HTML/CSS;Java;JavaScript;SQL;TypeScript',\n",
       " 'Java;SQL',\n",
       " 'C;HTML/CSS;JavaScript;Python;Ruby;SQL;VBA',\n",
       " 'C;C++;C#;HTML/CSS;Java;JavaScript;Python;SQL;TypeScript',\n",
       " 'HTML/CSS;Java',\n",
       " 'Bash/Shell/PowerShell;Python;SQL',\n",
       " 'HTML/CSS;JavaScript;TypeScript',\n",
       " 'Python;Rust',\n",
       " 'C++;C#;Java;Python',\n",
       " 'C#;JavaScript;TypeScript',\n",
       " 'C++;HTML/CSS;Java;Python;Scala;SQL;TypeScript',\n",
       " 'C;Python',\n",
       " 'HTML/CSS;JavaScript;Python;SQL',\n",
       " 'Bash/Shell/PowerShell;C++;HTML/CSS;Python',\n",
       " 'C#;HTML/CSS;JavaScript;TypeScript',\n",
       " 'HTML/CSS;JavaScript;TypeScript',\n",
       " 'Java;JavaScript',\n",
       " 'C#;HTML/CSS;JavaScript;Kotlin;SQL;Swift;TypeScript',\n",
       " 'Dart;JavaScript;Kotlin;Swift',\n",
       " 'C#;HTML/CSS;JavaScript;SQL',\n",
       " 'Bash/Shell/PowerShell',\n",
       " 'HTML/CSS;Java;JavaScript;PHP;Python;SQL',\n",
       " 'Bash/Shell/PowerShell;C;C++;Java;JavaScript;Python;Rust;TypeScript',\n",
       " 'JavaScript;Python',\n",
       " 'C#;SQL',\n",
       " 'HTML/CSS;JavaScript',\n",
       " 'Java',\n",
       " 'C#;HTML/CSS;Java;JavaScript;TypeScript',\n",
       " 'Java;Kotlin',\n",
       " 'Bash/Shell/PowerShell;Go;Java;JavaScript;Python;Other(s):',\n",
       " 'HTML/CSS;JavaScript;Python;SQL',\n",
       " 'C#;SQL',\n",
       " 'C#;SQL',\n",
       " 'C++',\n",
       " 'Bash/Shell/PowerShell;C#;HTML/CSS;JavaScript;SQL',\n",
       " 'C#;JavaScript;SQL;TypeScript',\n",
       " 'HTML/CSS;JavaScript;TypeScript',\n",
       " 'Bash/Shell/PowerShell;C#;HTML/CSS;JavaScript;PHP;SQL',\n",
       " 'C#;HTML/CSS;Java;JavaScript;TypeScript',\n",
       " 'C#;HTML/CSS;JavaScript;SQL;Other(s):',\n",
       " 'HTML/CSS;Java;JavaScript',\n",
       " 'C++;C#;Java;JavaScript;SQL',\n",
       " 'Bash/Shell/PowerShell;Elixir;JavaScript;Python;SQL',\n",
       " 'Bash/Shell/PowerShell;C;C++;C#;HTML/CSS;Java;JavaScript;Ruby;SQL;TypeScript;Other(s):',\n",
       " 'JavaScript;PHP;Python',\n",
       " 'Objective-C;Swift',\n",
       " 'HTML/CSS;JavaScript',\n",
       " 'Bash/Shell/PowerShell;C;C++;C#;HTML/CSS;Java;JavaScript',\n",
       " 'HTML/CSS;Java;JavaScript;Python',\n",
       " 'Assembly;Bash/Shell/PowerShell;C;C++;C#;HTML/CSS;JavaScript;PHP;SQL;TypeScript;WebAssembly',\n",
       " 'HTML/CSS;JavaScript;PHP',\n",
       " 'Assembly;Bash/Shell/PowerShell;C;C++;C#;Python;WebAssembly',\n",
       " 'Assembly;C;C#;Java;Ruby;TypeScript',\n",
       " 'C++;HTML/CSS;Java;JavaScript;Python',\n",
       " 'Bash/Shell/PowerShell;C#;HTML/CSS;Java;JavaScript;Python;SQL',\n",
       " 'HTML/CSS;JavaScript;Python',\n",
       " 'Bash/Shell/PowerShell;C;C++;Dart;HTML/CSS;Java;JavaScript;Kotlin;Scala',\n",
       " 'Go;JavaScript;Python;SQL;TypeScript',\n",
       " 'JavaScript;Python',\n",
       " 'Bash/Shell/PowerShell;C#;HTML/CSS;JavaScript;Python;SQL;TypeScript',\n",
       " 'HTML/CSS;JavaScript;TypeScript',\n",
       " 'HTML/CSS;JavaScript',\n",
       " 'HTML/CSS;JavaScript;PHP;VBA',\n",
       " 'C;C++;HTML/CSS;Java;JavaScript;PHP;SQL',\n",
       " 'Assembly;C#;HTML/CSS;JavaScript;Python;SQL;VBA',\n",
       " 'HTML/CSS;Java;JavaScript;R;Ruby;SQL;TypeScript',\n",
       " 'C++;C#;Java;SQL',\n",
       " 'HTML/CSS;JavaScript;PHP;SQL',\n",
       " 'HTML/CSS;JavaScript;PHP;SQL',\n",
       " 'C#;JavaScript;Python',\n",
       " ...]"
      ]
     },
     "execution_count": 83,
     "metadata": {},
     "output_type": "execute_result"
    }
   ],
   "source": [
    "langdata"
   ]
  },
  {
   "cell_type": "code",
   "execution_count": null,
   "metadata": {},
   "outputs": [],
   "source": []
  }
 ],
 "metadata": {
  "kernelspec": {
   "display_name": "Python 3",
   "language": "python",
   "name": "python3"
  },
  "language_info": {
   "codemirror_mode": {
    "name": "ipython",
    "version": 3
   },
   "file_extension": ".py",
   "mimetype": "text/x-python",
   "name": "python",
   "nbconvert_exporter": "python",
   "pygments_lexer": "ipython3",
   "version": "3.8.3"
  }
 },
 "nbformat": 4,
 "nbformat_minor": 4
}
